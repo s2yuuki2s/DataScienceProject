{
 "cells": [
  {
   "cell_type": "markdown",
   "metadata": {},
   "source": [
    "### DEMO ALGORITHMS FOR RANDOM DATASET(WEATHER FORECAST)"
   ]
  },
  {
   "cell_type": "code",
   "execution_count": 8,
   "metadata": {},
   "outputs": [
    {
     "name": "stdout",
     "output_type": "stream",
     "text": [
      "Requirement already satisfied: pandas in c:\\users\\laptop hp\\appdata\\local\\programs\\python\\python313\\lib\\site-packages (2.2.3)\n",
      "Requirement already satisfied: numpy in c:\\users\\laptop hp\\appdata\\local\\programs\\python\\python313\\lib\\site-packages (2.1.2)\n",
      "Requirement already satisfied: seaborn in c:\\users\\laptop hp\\appdata\\local\\programs\\python\\python313\\lib\\site-packages (0.13.2)\n",
      "Requirement already satisfied: matplotlib in c:\\users\\laptop hp\\appdata\\local\\programs\\python\\python313\\lib\\site-packages (3.9.2)\n",
      "Requirement already satisfied: scikit-learn in c:\\users\\laptop hp\\appdata\\local\\programs\\python\\python313\\lib\\site-packages (1.5.2)\n",
      "Requirement already satisfied: scipy in c:\\users\\laptop hp\\appdata\\local\\programs\\python\\python313\\lib\\site-packages (1.14.1)\n",
      "Requirement already satisfied: python-dateutil>=2.8.2 in c:\\users\\laptop hp\\appdata\\local\\programs\\python\\python313\\lib\\site-packages (from pandas) (2.9.0.post0)\n",
      "Requirement already satisfied: pytz>=2020.1 in c:\\users\\laptop hp\\appdata\\local\\programs\\python\\python313\\lib\\site-packages (from pandas) (2024.2)\n",
      "Requirement already satisfied: tzdata>=2022.7 in c:\\users\\laptop hp\\appdata\\local\\programs\\python\\python313\\lib\\site-packages (from pandas) (2024.2)\n",
      "Requirement already satisfied: contourpy>=1.0.1 in c:\\users\\laptop hp\\appdata\\local\\programs\\python\\python313\\lib\\site-packages (from matplotlib) (1.3.0)\n",
      "Requirement already satisfied: cycler>=0.10 in c:\\users\\laptop hp\\appdata\\local\\programs\\python\\python313\\lib\\site-packages (from matplotlib) (0.12.1)\n",
      "Requirement already satisfied: fonttools>=4.22.0 in c:\\users\\laptop hp\\appdata\\local\\programs\\python\\python313\\lib\\site-packages (from matplotlib) (4.54.1)\n",
      "Requirement already satisfied: kiwisolver>=1.3.1 in c:\\users\\laptop hp\\appdata\\local\\programs\\python\\python313\\lib\\site-packages (from matplotlib) (1.4.7)\n",
      "Requirement already satisfied: packaging>=20.0 in c:\\users\\laptop hp\\appdata\\roaming\\python\\python313\\site-packages (from matplotlib) (24.1)\n",
      "Requirement already satisfied: pillow>=8 in c:\\users\\laptop hp\\appdata\\local\\programs\\python\\python313\\lib\\site-packages (from matplotlib) (11.0.0)\n",
      "Requirement already satisfied: pyparsing>=2.3.1 in c:\\users\\laptop hp\\appdata\\local\\programs\\python\\python313\\lib\\site-packages (from matplotlib) (3.2.0)\n",
      "Requirement already satisfied: joblib>=1.2.0 in c:\\users\\laptop hp\\appdata\\local\\programs\\python\\python313\\lib\\site-packages (from scikit-learn) (1.4.2)\n",
      "Requirement already satisfied: threadpoolctl>=3.1.0 in c:\\users\\laptop hp\\appdata\\local\\programs\\python\\python313\\lib\\site-packages (from scikit-learn) (3.5.0)\n",
      "Requirement already satisfied: six>=1.5 in c:\\users\\laptop hp\\appdata\\local\\programs\\python\\python313\\lib\\site-packages (from python-dateutil>=2.8.2->pandas) (1.16.0)\n",
      "Note: you may need to restart the kernel to use updated packages.\n"
     ]
    },
    {
     "name": "stderr",
     "output_type": "stream",
     "text": [
      "\n",
      "[notice] A new release of pip is available: 24.2 -> 24.3.1\n",
      "[notice] To update, run: python.exe -m pip install --upgrade pip\n"
     ]
    },
    {
     "data": {
      "text/plain": [
       "''"
      ]
     },
     "execution_count": 8,
     "metadata": {},
     "output_type": "execute_result"
    }
   ],
   "source": [
    "\"\"\"\"\"\"\n",
    "%pip install pandas numpy seaborn matplotlib scikit-learn scipy\n",
    "\"\"\"\"\"\""
   ]
  },
  {
   "cell_type": "code",
   "execution_count": 13,
   "metadata": {},
   "outputs": [
    {
     "name": "stdout",
     "output_type": "stream",
     "text": [
      "Dữ liệu được tải thành công!\n",
      "\n",
      "Thông tin dữ liệu trước xử lý:\n",
      "<class 'pandas.core.frame.DataFrame'>\n",
      "RangeIndex: 1070 entries, 0 to 1069\n",
      "Data columns (total 7 columns):\n",
      " #   Column         Non-Null Count  Dtype \n",
      "---  ------         --------------  ----- \n",
      " 0   product_name   1070 non-null   object\n",
      " 1   store_name     1068 non-null   object\n",
      " 2   rating         1070 non-null   object\n",
      " 3   comment_count  1070 non-null   object\n",
      " 4   price          1070 non-null   object\n",
      " 5   sold           1070 non-null   object\n",
      " 6   link           1070 non-null   object\n",
      "dtypes: object(7)\n",
      "memory usage: 58.6+ KB\n",
      "None\n",
      "\n",
      "Tên cột sau khi chuẩn hóa: Index(['product_name', 'store_name', 'rating', 'comment_count', 'price',\n",
      "       'sold', 'link'],\n",
      "      dtype='object')\n",
      "\n",
      "Số hàng trước khi loại bỏ trùng lặp: 1070\n",
      "Số hàng sau khi loại bỏ trùng lặp: 1036\n",
      "Dữ liệu đã được lưu vào file: processed_product_details.csv\n"
     ]
    }
   ],
   "source": [
    "import pandas as pd\n",
    "import numpy as np\n",
    "import seaborn as sns\n",
    "import matplotlib.pyplot as plt\n",
    "from sklearn.impute import SimpleImputer\n",
    "from sklearn.preprocessing import MinMaxScaler\n",
    "from scipy.stats import ttest_ind\n",
    "import random\n",
    "\n",
    "# 1. Đọc dữ liệu từ file CSV\n",
    "file_path = 'product_details.csv'  # Đường dẫn tới tệp\n",
    "try:\n",
    "    df = pd.read_csv(file_path)\n",
    "    print(\"Dữ liệu được tải thành công!\")\n",
    "except FileNotFoundError:\n",
    "    print(f\"Tệp '{file_path}' không tồn tại. Vui lòng kiểm tra đường dẫn.\")\n",
    "    raise\n",
    "\n",
    "# 2. Kiểm tra thông tin dữ liệu\n",
    "print(\"\\nThông tin dữ liệu trước xử lý:\")\n",
    "print(df.info())\n",
    "\n",
    "# Chuẩn hóa tên cột\n",
    "df.columns = df.columns.str.strip().str.replace(' ', '_')\n",
    "print(\"\\nTên cột sau khi chuẩn hóa:\", df.columns)\n",
    "\n",
    "# 3. Tiền xử lý dữ liệu\n",
    "# Xác định cột số và cột chuỗi\n",
    "numeric_columns = df.select_dtypes(include=['float64', 'int64']).columns\n",
    "categorical_columns = df.select_dtypes(include=['object']).columns\n",
    "\n",
    "# Điền giá trị thiếu\n",
    "if len(numeric_columns) > 0:\n",
    "    imputer_num = SimpleImputer(strategy='mean')  # Với cột số\n",
    "    df[numeric_columns] = imputer_num.fit_transform(df[numeric_columns])\n",
    "\n",
    "if len(categorical_columns) > 0:\n",
    "    imputer_cat = SimpleImputer(strategy='most_frequent')  # Với cột chuỗi\n",
    "    df[categorical_columns] = imputer_cat.fit_transform(df[categorical_columns])\n",
    "\n",
    "# Loại bỏ các bản ghi trùng lặp\n",
    "print(\"\\nSố hàng trước khi loại bỏ trùng lặp:\", df.shape[0])\n",
    "df = df.drop_duplicates()\n",
    "print(\"Số hàng sau khi loại bỏ trùng lặp:\", df.shape[0])\n",
    "\n",
    "# Lưu dữ liệu sau xử lý vào file CSV\n",
    "output_file_path = 'processed_product_details.csv'\n",
    "df.to_csv(output_file_path, index=False)\n",
    "print(f\"Dữ liệu đã được lưu vào file: {output_file_path}\")\n"
   ]
  },
  {
   "cell_type": "code",
   "execution_count": 11,
   "metadata": {},
   "outputs": [
    {
     "name": "stdout",
     "output_type": "stream",
     "text": [
      "\n",
      "Số hàng trước khi loại bỏ trùng lặp: 1036\n",
      "Số hàng sau khi loại bỏ trùng lặp: 1036\n"
     ]
    }
   ],
   "source": [
    "# Loại bỏ các bản ghi trùng lặp\n",
    "print(\"\\nSố hàng trước khi loại bỏ trùng lặp:\", df.shape[0])\n",
    "df = df.drop_duplicates()\n",
    "print(\"Số hàng sau khi loại bỏ trùng lặp:\", df.shape[0])\n"
   ]
  },
  {
   "cell_type": "code",
   "execution_count": 12,
   "metadata": {},
   "outputs": [
    {
     "name": "stdout",
     "output_type": "stream",
     "text": [
      "Dữ liệu đã được lưu vào file: processed_product_details.csv\n"
     ]
    }
   ],
   "source": [
    "# Lưu dữ liệu sau xử lý vào file CSV\n",
    "output_file_path = 'processed_product_details.csv'  # Đường dẫn tới tệp đầu ra\n",
    "df.to_csv(output_file_path, index=False)  # Không lưu cột chỉ mục\n",
    "print(f\"Dữ liệu đã được lưu vào file: {output_file_path}\")\n"
   ]
  }
 ],
 "metadata": {
  "kernelspec": {
   "display_name": "Python 3",
   "language": "python",
   "name": "python3"
  },
  "language_info": {
   "codemirror_mode": {
    "name": "ipython",
    "version": 3
   },
   "file_extension": ".py",
   "mimetype": "text/x-python",
   "name": "python",
   "nbconvert_exporter": "python",
   "pygments_lexer": "ipython3",
   "version": "3.13.0"
  }
 },
 "nbformat": 4,
 "nbformat_minor": 2
}
