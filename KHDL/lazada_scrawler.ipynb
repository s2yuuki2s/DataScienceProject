{
 "cells": [
  {
   "cell_type": "markdown",
   "metadata": {},
   "source": [
    "#### Use selenium and beautifulsoup to crawl data from lazada"
   ]
  },
  {
   "cell_type": "code",
   "execution_count": 3,
   "metadata": {},
   "outputs": [
    {
     "data": {
      "text/plain": [
       "' %pip install selenium \\n%pip install beautifulsoup4\\n%pip install pandas\\n%pip install requests '"
      ]
     },
     "execution_count": 3,
     "metadata": {},
     "output_type": "execute_result"
    }
   ],
   "source": [
    "# Install necesary packages\n",
    "\"\"\" %pip install selenium \n",
    "%pip install beautifulsoup4\n",
    "%pip install pandas\n",
    "%pip install requests \"\"\""
   ]
  },
  {
   "cell_type": "code",
   "execution_count": 4,
   "metadata": {},
   "outputs": [],
   "source": [
    "from selenium import webdriver\n",
    "from selenium.webdriver.common.by import By\n",
    "from selenium.webdriver.support.ui import WebDriverWait\n",
    "from selenium.webdriver.support import expected_conditions as EC\n",
    "import pandas as pd\n",
    "import time\n",
    "import csv\n",
    "import os"
   ]
  },
  {
   "cell_type": "code",
   "execution_count": 5,
   "metadata": {},
   "outputs": [],
   "source": [
    "def product_on_page(url, keyword):\n",
    "    \"\"\"\n",
    "    Scrapes product information from a Lazada search page based on a given keyword.\n",
    "\n",
    "    This function uses Selenium to search for a specific keyword on the Lazada website, \n",
    "    retrieves product links, prices, and sold counts for all products on the first page, \n",
    "    and optionally paginates through additional pages to gather more data.\n",
    "\n",
    "    Parameters:\n",
    "        url (str): The URL of the Lazada homepage or search page to start scraping.\n",
    "        keyword (str): The keyword to search for on the Lazada platform.\n",
    "\n",
    "    Returns:\n",
    "        list: A list of dictionaries containing product information:\n",
    "            - link (str): The URL of the product page.\n",
    "            - price (str or None): The price of the product as displayed.\n",
    "            - sold (str or None): The number of units sold, if available.\n",
    "    \"\"\"\n",
    "    browser = webdriver.Chrome()\n",
    "    browser.maximize_window()\n",
    "    browser.get(url)\n",
    "    browser.implicitly_wait(120) \n",
    "\n",
    "    search_box = browser.find_element(By.ID, \"q\")\n",
    "    search_box.send_keys(keyword)\n",
    "    search_box.submit()\n",
    "    \n",
    "    WebDriverWait(browser, 20).until(\n",
    "        EC.presence_of_all_elements_located((By.CSS_SELECTOR, \".Bm3ON\"))\n",
    "    )\n",
    "    \n",
    "    products = []\n",
    "    current_page = 0\n",
    "    \n",
    "    while current_page < 1:\n",
    "        print(f\"Load {current_page + 1}...\")\n",
    "        product_elements = browser.find_elements(By.CSS_SELECTOR, \".Bm3ON\")\n",
    "        \n",
    "        for product in product_elements:\n",
    "            try:\n",
    "                scroll_pause_time = 2   \n",
    "                last_height = browser.execute_script(\"return document.body.scrollHeight\")\n",
    "\n",
    "                while True:\n",
    "                    browser.execute_script(\"window.scrollTo(0, document.body.scrollHeight);\")\n",
    "                    time.sleep(scroll_pause_time)\n",
    "\n",
    "                    new_height = browser.execute_script(\"return document.body.scrollHeight\")\n",
    "                    if new_height == last_height:\n",
    "                        break\n",
    "                    last_height = new_height\n",
    "\n",
    "                link_element = product.find_element(By.CSS_SELECTOR, \"a\")\n",
    "                link = link_element.get_attribute(\"href\")\n",
    "                \n",
    "                try:\n",
    "                    price_element = product.find_element(By.CLASS_NAME, \"ooOxS\")\n",
    "                    price = price_element.text\n",
    "                except Exception:\n",
    "                    price = None                  \n",
    "\n",
    "                try:\n",
    "                    sold_element = product.find_element(By.CLASS_NAME, \"_1cEkb\")\n",
    "                    sold = sold_element.text\n",
    "                except Exception:\n",
    "                    sold = None   \n",
    "\n",
    "                if sold is not None:\n",
    "                    products.append({\n",
    "                        \"link\": link,\n",
    "                        \"price\": price,\n",
    "                        \"sold\": sold\n",
    "                    }) \n",
    "            except Exception as e:\n",
    "                print(f\"Error fetching product details: {e}\")\n",
    "        \n",
    "        try:\n",
    "            next_button = browser.find_element(By.CSS_SELECTOR, \"li.ant-pagination-next\")\n",
    "            if \"ant-pagination-disabled\" in next_button.get_attribute(\"class\"):\n",
    "                print(\"Not next page.\")\n",
    "                break\n",
    "            browser.execute_script(\"arguments[0].click();\", next_button)\n",
    "            time.sleep(2)   \n",
    "            current_page += 1\n",
    "        except Exception as e:\n",
    "            print(\"Can not continue:\", e)\n",
    "            break\n",
    "    \n",
    "    browser.quit()\n",
    "    \n",
    "    return products"
   ]
  },
  {
   "cell_type": "code",
   "execution_count": 6,
   "metadata": {},
   "outputs": [],
   "source": [
    "def get_product_details(url):\n",
    "    \"\"\"\n",
    "    Access a Lazada product page and retrieve detailed product information.\n",
    "\n",
    "    This function uses Selenium to navigate to the product page, scroll down to load all content,\n",
    "    and extract information such as the product name, store name, rating, and the number of comments.\n",
    "\n",
    "    Parameters:\n",
    "        url (str): The URL of the Lazada product page.\n",
    "\n",
    "    Returns:\n",
    "        dict: A dictionary containing detailed product information:\n",
    "            - product_name (str): The name of the product.\n",
    "            - store_name (str): The name of the store. If not found, the value will be \"Store not found\".\n",
    "            - rating (str): The product's rating. If no rating is available, the value will be \"No rating\".\n",
    "            - comment_count (str): The number of comments on the product. If no comments are available, the value will be \"No comments\".\n",
    "        None: Returns `None` if an error occurs during data retrieval.\n",
    "    \"\"\"\n",
    "    browser = webdriver.Chrome()\n",
    "    browser.maximize_window()\n",
    "    browser.get(url)\n",
    "    browser.implicitly_wait(120) \n",
    "\n",
    "    try:\n",
    "        scroll_pause_time = 2 \n",
    "        last_height = browser.execute_script(\"return document.body.scrollHeight\")\n",
    "\n",
    "        while True:\n",
    "            browser.execute_script(\"window.scrollTo(0, document.body.scrollHeight);\")\n",
    "            time.sleep(scroll_pause_time)\n",
    "\n",
    "            new_height = browser.execute_script(\"return document.body.scrollHeight\")\n",
    "            if new_height == last_height:\n",
    "                break\n",
    "            last_height = new_height\n",
    "\n",
    "        product_name = browser.find_element(By.CSS_SELECTOR, \"h1.pdp-mod-product-badge-title\").text\n",
    "\n",
    "        try:\n",
    "            store_name = browser.find_element(By.CSS_SELECTOR, \"div.seller-name__detail > a\").text\n",
    "        except Exception:\n",
    "            store_name = \"Không tìm thấy cửa hàng\"\n",
    "\n",
    "        try:\n",
    "            rating = browser.find_element(By.CSS_SELECTOR, \"span.score-average\").text\n",
    "        except Exception:\n",
    "            rating = \"Không có đánh giá\"\n",
    "\n",
    "        try:\n",
    "            comment_count = browser.find_element(By.CSS_SELECTOR, \"a.pdp-link.pdp-review-summary__link\").text\n",
    "        except Exception:\n",
    "            comment_count = \"Không có bình luận\"\n",
    "\n",
    "        return {\n",
    "            \"product_name\": product_name,\n",
    "            \"store_name\": store_name,\n",
    "            \"rating\": rating,\n",
    "            \"comment_count\": comment_count,\n",
    "        }\n",
    "    except Exception as e:\n",
    "        print(f\"Error fetching product details: {e}\")\n",
    "        return None\n",
    "    finally:\n",
    "        browser.quit()\n"
   ]
  },
  {
   "cell_type": "code",
   "execution_count": 7,
   "metadata": {},
   "outputs": [
    {
     "name": "stdout",
     "output_type": "stream",
     "text": [
      "Load 1...\n"
     ]
    }
   ],
   "source": [
    "url = 'https://www.lazada.vn/'\n",
    "keyword = ['máy+fax']\n",
    "for item in keyword:\n",
    "    product_links = product_on_page(url, item)"
   ]
  },
  {
   "cell_type": "code",
   "execution_count": 8,
   "metadata": {},
   "outputs": [
    {
     "name": "stdout",
     "output_type": "stream",
     "text": [
      "Fetching details for https://www.lazada.vn/products/may-in-phun-mau-canon-mx-397-in-scan-copy-fax-i2497946073.html...\n",
      "Fetching details for https://www.lazada.vn/products/mktel-m14-tinh-nang-dien-thoai-voi-4-sim-cho-man-hinh-24-pin-1100mah-mp3-mp4-dai-fm-cao-cap-dien-thoai-lat-i2894553843.html...\n",
      "Fetching details for https://www.lazada.vn/products/may-in-laser-da-nang-co-fax-brother-mfc-l2701d-i886842165.html...\n",
      "Fetching details for https://www.lazada.vn/products/panasonic-kx-ft983-may-fax-nhiet-doi-chot-i1263979713.html...\n",
      "Fetching details for https://www.lazada.vn/products/hcm-may-in-da-chuc-nang-laser-hp-laserjet-pro-m1212nf-mfp-in-mang-scan-photo-copy-fax-i2616263806.html...\n",
      "Fetching details for https://www.lazada.vn/products/hcmfilm-fax-kx-fa-57e-cho-may-panasonic-kx-fp-711-i2114061.html...\n",
      "Saved product details to product_details.csv\n"
     ]
    }
   ],
   "source": [
    "product_detail = []\n",
    "\n",
    "for product in product_links:\n",
    "    print(f\"Fetching details for {product['link']}...\")\n",
    "    details = get_product_details(product['link'])\n",
    "    if details:\n",
    "        details.update({\n",
    "            \"price\": product[\"price\"],\n",
    "            \"sold\": product[\"sold\"],\n",
    "            \"link\": product[\"link\"],\n",
    "    })\n",
    "    product_detail.append(details)\n",
    "\n",
    "if product_detail:\n",
    "    if not os.path.exists(\"product_details.csv\"):\n",
    "        write_header = True\n",
    "    else:\n",
    "        write_header = False\n",
    "\n",
    "    with open(\"product_details.csv\", \"a\", newline=\"\", encoding=\"utf-8\") as csvfile:\n",
    "        fieldnames = [\"product_name\", \"store_name\", \"rating\", \"comment_count\", \"price\", \"sold\", \"link\"]\n",
    "        writer = csv.DictWriter(csvfile, fieldnames=fieldnames)\n",
    "        if write_header:\n",
    "            writer.writeheader()\n",
    "        writer.writerows(product_detail)\n",
    "    print(\"Saved product details to product_details.csv\") \n",
    "else:\n",
    "    print(\"No product detail to save\")"
   ]
  },
  {
   "cell_type": "code",
   "execution_count": 10,
   "metadata": {},
   "outputs": [],
   "source": [
    "# Chuyển danh sách thành DataFrame\n",
    "df = pd.DataFrame(product_links)\n",
    "\n",
    "# Lưu DataFrame thành file CSV\n",
    "df.to_csv(\"products.csv\", index=False, encoding='utf-8')"
   ]
  }
 ],
 "metadata": {
  "kernelspec": {
   "display_name": "Python 3",
   "language": "python",
   "name": "python3"
  },
  "language_info": {
   "codemirror_mode": {
    "name": "ipython",
    "version": 3
   },
   "file_extension": ".py",
   "mimetype": "text/x-python",
   "name": "python",
   "nbconvert_exporter": "python",
   "pygments_lexer": "ipython3",
   "version": "3.13.0"
  }
 },
 "nbformat": 4,
 "nbformat_minor": 2
}
