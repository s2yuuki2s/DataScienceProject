{
 "cells": [
  {
   "cell_type": "markdown",
   "metadata": {},
   "source": [
    "### Chuẩn hóa dữ liệu"
   ]
  },
  {
   "cell_type": "code",
   "execution_count": 1,
   "metadata": {},
   "outputs": [],
   "source": [
    "from sklearn.preprocessing import MinMaxScaler\n",
    "import pandas as pd"
   ]
  },
  {
   "cell_type": "code",
   "execution_count": 2,
   "metadata": {},
   "outputs": [
    {
     "name": "stdout",
     "output_type": "stream",
     "text": [
      "Các cột hiện có trong dữ liệu: Index(['product_name', 'rating', 'comment_count', 'price', 'sold'], dtype='object')\n",
      "Dữ liệu đã chuẩn hóa:\n",
      "                                        product_name  rating  comment_count  \\\n",
      "0  [HCM]Thẻ nhớ 64gb, Thẻ nhớ camera YOOSEE Micro...     0.0       0.000000   \n",
      "1  [HCM]Thẻ nhớ 32gb, Thẻ nhớ camera YOOSEE Micro...     0.0       0.000000   \n",
      "2  Thẻ nhớ TF 16GB 32GB 64GB 128GB 256GB 512GB 1T...     0.0       0.000000   \n",
      "3  Thẻ Nhớ Kioxia 32GB và Thẻ Nhớ Sandisk (64GB/1...     1.0       0.057169   \n",
      "4  Thẻ Nhớ 32 gb ( Thẻ nhớ dành chuyên cho camera...     0.0       0.000000   \n",
      "\n",
      "      price      sold  \n",
      "0  0.004536  0.594784  \n",
      "1  0.003530  0.002006  \n",
      "2  0.002621  0.561685  \n",
      "3  0.008507  0.001003  \n",
      "4  0.001337  0.095286  \n"
     ]
    }
   ],
   "source": [
    "# Đọc dữ liệu từ tệp preprocessing.csv\n",
    "file_path = 'preprocessing.csv'  \n",
    "data = pd.read_csv(file_path)\n",
    "\n",
    "# Xác định các cột số liệu cần chuẩn hóa (dựa vào dữ liệu trong tệp)\n",
    "numerical_columns = ['rating', 'comment_count', 'price', 'sold']  # Điều chỉnh nếu cần\n",
    "\n",
    "# Kiểm tra các cột trong dữ liệu\n",
    "print(\"Các cột hiện có trong dữ liệu:\", data.columns)\n",
    "\n",
    "# 1. Chuẩn hóa các cột số liệu bằng Min-Max Scaling\n",
    "scaler = MinMaxScaler()\n",
    "data[numerical_columns] = scaler.fit_transform(data[numerical_columns])\n",
    "\n",
    "# 2. Lưu dữ liệu đã chuẩn hóa vào tệp mới\n",
    "normalized_file_path = 'normalization.csv'\n",
    "data.to_csv(normalized_file_path, index=False)\n",
    "\n",
    "# Hiển thị một phần dữ liệu đã chuẩn hóa\n",
    "print(\"Dữ liệu đã chuẩn hóa:\")\n",
    "print(data.head())"
   ]
  }
 ],
 "metadata": {
  "kernelspec": {
   "display_name": "Python 3",
   "language": "python",
   "name": "python3"
  },
  "language_info": {
   "codemirror_mode": {
    "name": "ipython",
    "version": 3
   },
   "file_extension": ".py",
   "mimetype": "text/x-python",
   "name": "python",
   "nbconvert_exporter": "python",
   "pygments_lexer": "ipython3",
   "version": "3.13.0"
  }
 },
 "nbformat": 4,
 "nbformat_minor": 2
}
