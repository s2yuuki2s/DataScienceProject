{
 "cells": [
  {
   "cell_type": "code",
   "execution_count": 9,
   "metadata": {},
   "outputs": [],
   "source": [
    "# Import các thư viện cần thiết\n",
    "import pandas as pd\n",
    "import numpy as np\n",
    "import matplotlib.pyplot as plt\n",
    "import seaborn as sns\n",
    "from sklearn.preprocessing import StandardScaler"
   ]
  },
  {
   "cell_type": "code",
   "execution_count": 10,
   "metadata": {},
   "outputs": [
    {
     "name": "stdout",
     "output_type": "stream",
     "text": [
      "Thông tin tổng quan về dữ liệu:\n",
      "<class 'pandas.core.frame.DataFrame'>\n",
      "RangeIndex: 1070 entries, 0 to 1069\n",
      "Data columns (total 7 columns):\n",
      " #   Column         Non-Null Count  Dtype \n",
      "---  ------         --------------  ----- \n",
      " 0   product_name   1070 non-null   object\n",
      " 1   store_name     1068 non-null   object\n",
      " 2   rating         1070 non-null   object\n",
      " 3   comment_count  1070 non-null   object\n",
      " 4   price          1070 non-null   object\n",
      " 5   sold           1070 non-null   object\n",
      " 6   link           1070 non-null   object\n",
      "dtypes: object(7)\n",
      "memory usage: 58.6+ KB\n",
      "None\n"
     ]
    },
    {
     "data": {
      "text/html": [
       "<div>\n",
       "<style scoped>\n",
       "    .dataframe tbody tr th:only-of-type {\n",
       "        vertical-align: middle;\n",
       "    }\n",
       "\n",
       "    .dataframe tbody tr th {\n",
       "        vertical-align: top;\n",
       "    }\n",
       "\n",
       "    .dataframe thead th {\n",
       "        text-align: right;\n",
       "    }\n",
       "</style>\n",
       "<table border=\"1\" class=\"dataframe\">\n",
       "  <thead>\n",
       "    <tr style=\"text-align: right;\">\n",
       "      <th></th>\n",
       "      <th>product_name</th>\n",
       "      <th>store_name</th>\n",
       "      <th>rating</th>\n",
       "      <th>comment_count</th>\n",
       "      <th>price</th>\n",
       "      <th>sold</th>\n",
       "      <th>link</th>\n",
       "    </tr>\n",
       "  </thead>\n",
       "  <tbody>\n",
       "    <tr>\n",
       "      <th>0</th>\n",
       "      <td>[HCM]Thẻ nhớ 64gb, Thẻ nhớ camera YOOSEE Micro...</td>\n",
       "      <td>Không tìm thấy cửa hàng</td>\n",
       "      <td>0</td>\n",
       "      <td>Không có đánh giá</td>\n",
       "      <td>₫84,800</td>\n",
       "      <td>594 sold</td>\n",
       "      <td>https://www.lazada.vn/products/hcmthe-nho-64gb...</td>\n",
       "    </tr>\n",
       "    <tr>\n",
       "      <th>1</th>\n",
       "      <td>[HCM]Thẻ nhớ 32gb, Thẻ nhớ camera YOOSEE Micro...</td>\n",
       "      <td>Không tìm thấy cửa hàng</td>\n",
       "      <td>0</td>\n",
       "      <td>Không có đánh giá</td>\n",
       "      <td>₫66,000</td>\n",
       "      <td>3.8K sold</td>\n",
       "      <td>https://www.lazada.vn/products/hcmthe-nho-32gb...</td>\n",
       "    </tr>\n",
       "    <tr>\n",
       "      <th>2</th>\n",
       "      <td>Thẻ nhớ TF 16GB 32GB 64GB 128GB 256GB 512GB 1T...</td>\n",
       "      <td>Không tìm thấy cửa hàng</td>\n",
       "      <td>0</td>\n",
       "      <td>Không có đánh giá</td>\n",
       "      <td>₫49,000</td>\n",
       "      <td>561 sold</td>\n",
       "      <td>https://www.lazada.vn/products/the-nho-tf-16gb...</td>\n",
       "    </tr>\n",
       "    <tr>\n",
       "      <th>3</th>\n",
       "      <td>Thẻ Nhớ Kioxia 32GB và Thẻ Nhớ Sandisk (64GB/1...</td>\n",
       "      <td>EZVIZ VN Authorized Store</td>\n",
       "      <td>5.0</td>\n",
       "      <td>750 đánh giá</td>\n",
       "      <td>₫159,000</td>\n",
       "      <td>2.8K sold</td>\n",
       "      <td>https://www.lazada.vn/products/the-nho-kioxia-...</td>\n",
       "    </tr>\n",
       "    <tr>\n",
       "      <th>4</th>\n",
       "      <td>Thẻ Nhớ 32 gb ( Thẻ nhớ dành chuyên cho camera...</td>\n",
       "      <td>Không tìm thấy cửa hàng</td>\n",
       "      <td>0</td>\n",
       "      <td>Không có đánh giá</td>\n",
       "      <td>₫25,000</td>\n",
       "      <td>96 sold</td>\n",
       "      <td>https://www.lazada.vn/products/the-nho-32-gb-t...</td>\n",
       "    </tr>\n",
       "  </tbody>\n",
       "</table>\n",
       "</div>"
      ],
      "text/plain": [
       "                                        product_name  \\\n",
       "0  [HCM]Thẻ nhớ 64gb, Thẻ nhớ camera YOOSEE Micro...   \n",
       "1  [HCM]Thẻ nhớ 32gb, Thẻ nhớ camera YOOSEE Micro...   \n",
       "2  Thẻ nhớ TF 16GB 32GB 64GB 128GB 256GB 512GB 1T...   \n",
       "3  Thẻ Nhớ Kioxia 32GB và Thẻ Nhớ Sandisk (64GB/1...   \n",
       "4  Thẻ Nhớ 32 gb ( Thẻ nhớ dành chuyên cho camera...   \n",
       "\n",
       "                  store_name rating      comment_count     price       sold  \\\n",
       "0    Không tìm thấy cửa hàng      0  Không có đánh giá   ₫84,800   594 sold   \n",
       "1    Không tìm thấy cửa hàng      0  Không có đánh giá   ₫66,000  3.8K sold   \n",
       "2    Không tìm thấy cửa hàng      0  Không có đánh giá   ₫49,000   561 sold   \n",
       "3  EZVIZ VN Authorized Store    5.0       750 đánh giá  ₫159,000  2.8K sold   \n",
       "4    Không tìm thấy cửa hàng      0  Không có đánh giá   ₫25,000    96 sold   \n",
       "\n",
       "                                                link  \n",
       "0  https://www.lazada.vn/products/hcmthe-nho-64gb...  \n",
       "1  https://www.lazada.vn/products/hcmthe-nho-32gb...  \n",
       "2  https://www.lazada.vn/products/the-nho-tf-16gb...  \n",
       "3  https://www.lazada.vn/products/the-nho-kioxia-...  \n",
       "4  https://www.lazada.vn/products/the-nho-32-gb-t...  "
      ]
     },
     "metadata": {},
     "output_type": "display_data"
    }
   ],
   "source": [
    "# Đọc file CSV\n",
    "file_path = 'product_details.csv'  # Đường dẫn file\n",
    "data = pd.read_csv(file_path)\n",
    "\n",
    "# Hiển thị thông tin tổng quan về dữ liệu\n",
    "print(\"Thông tin tổng quan về dữ liệu:\")\n",
    "print(data.info())\n",
    "display(data.head())"
   ]
  },
  {
   "cell_type": "code",
   "execution_count": 11,
   "metadata": {},
   "outputs": [
    {
     "name": "stdout",
     "output_type": "stream",
     "text": [
      "\n",
      "Số lượng giá trị trùng lặp trước khi xử lý: 34\n",
      "Số lượng giá trị trùng lặp sau khi xử lý: 0\n"
     ]
    }
   ],
   "source": [
    "# Bước 1: Kiểm tra và xử lý giá trị trùng lặp\n",
    "print(\"\\nSố lượng giá trị trùng lặp trước khi xử lý:\", data.duplicated().sum())\n",
    "data = data.drop_duplicates()\n",
    "print(\"Số lượng giá trị trùng lặp sau khi xử lý:\", data.duplicated().sum())"
   ]
  },
  {
   "cell_type": "code",
   "execution_count": 12,
   "metadata": {},
   "outputs": [
    {
     "name": "stdout",
     "output_type": "stream",
     "text": [
      "\n",
      "Số lượng giá trị thiếu trong mỗi cột:\n",
      "product_name     0\n",
      "store_name       2\n",
      "rating           0\n",
      "comment_count    0\n",
      "price            0\n",
      "sold             0\n",
      "link             0\n",
      "dtype: int64\n"
     ]
    }
   ],
   "source": [
    "# Bước 2: Kiểm tra và xử lý giá trị thiếu\n",
    "missing_values = data.isnull().sum()\n",
    "print(\"\\nSố lượng giá trị thiếu trong mỗi cột:\")\n",
    "print(missing_values)"
   ]
  },
  {
   "cell_type": "markdown",
   "metadata": {},
   "source": [
    "#### Xử lý giá trị thiếu:"
   ]
  },
  {
   "cell_type": "code",
   "execution_count": 13,
   "metadata": {},
   "outputs": [
    {
     "name": "stdout",
     "output_type": "stream",
     "text": [
      "\n",
      "Số lượng dòng dữ liệu trước khi xử lý store_name: 1036\n",
      "Số lượng dòng dữ liệu sau khi xử lý store_name: 1034\n"
     ]
    }
   ],
   "source": [
    "# Loại bỏ các dòng có giá trị thiếu\n",
    "print(\"\\nSố lượng dòng dữ liệu trước khi xử lý store_name:\", len(data))\n",
    "data = data.dropna(subset=['store_name'])\n",
    "print(\"Số lượng dòng dữ liệu sau khi xử lý store_name:\", len(data))\n"
   ]
  },
  {
   "cell_type": "code",
   "execution_count": 14,
   "metadata": {},
   "outputs": [
    {
     "name": "stdout",
     "output_type": "stream",
     "text": [
      "<class 'pandas.core.frame.DataFrame'>\n",
      "Index: 1034 entries, 0 to 1069\n",
      "Data columns (total 7 columns):\n",
      " #   Column         Non-Null Count  Dtype \n",
      "---  ------         --------------  ----- \n",
      " 0   product_name   1034 non-null   object\n",
      " 1   store_name     1034 non-null   object\n",
      " 2   rating         1034 non-null   object\n",
      " 3   comment_count  1034 non-null   object\n",
      " 4   price          1034 non-null   object\n",
      " 5   sold           1034 non-null   object\n",
      " 6   link           1034 non-null   object\n",
      "dtypes: object(7)\n",
      "memory usage: 64.6+ KB\n"
     ]
    }
   ],
   "source": [
    "data.info()"
   ]
  },
  {
   "cell_type": "code",
   "execution_count": 15,
   "metadata": {},
   "outputs": [],
   "source": [
    "# - Chuyển đổi 'price' và 'sold' sang dạng số\n",
    "data['price'] = pd.to_numeric(data['price'].str.replace('₫', '').str.replace(',', ''), errors='coerce')\n",
    "data['sold'] = data['sold'].str.replace(' sold', '').str.replace('K', 'e3')\n",
    "data['sold'] = pd.to_numeric(data['sold'], errors='coerce')\n",
    "\n",
    "\n",
    "data = data.dropna(subset=['price', 'sold']) "
   ]
  },
  {
   "cell_type": "code",
   "execution_count": 16,
   "metadata": {},
   "outputs": [
    {
     "name": "stdout",
     "output_type": "stream",
     "text": [
      "Giá trị không hợp lệ trong 'price':\n"
     ]
    },
    {
     "ename": "AttributeError",
     "evalue": "Can only use .str accessor with string values!",
     "output_type": "error",
     "traceback": [
      "\u001b[1;31m---------------------------------------------------------------------------\u001b[0m",
      "\u001b[1;31mAttributeError\u001b[0m                            Traceback (most recent call last)",
      "Cell \u001b[1;32mIn[16], line 3\u001b[0m\n\u001b[0;32m      1\u001b[0m \u001b[38;5;66;03m# Kiểm tra các giá trị không hợp lệ trong 'price' và 'sold'\u001b[39;00m\n\u001b[0;32m      2\u001b[0m \u001b[38;5;28mprint\u001b[39m(\u001b[38;5;124m\"\u001b[39m\u001b[38;5;124mGiá trị không hợp lệ trong \u001b[39m\u001b[38;5;124m'\u001b[39m\u001b[38;5;124mprice\u001b[39m\u001b[38;5;124m'\u001b[39m\u001b[38;5;124m:\u001b[39m\u001b[38;5;124m\"\u001b[39m)\n\u001b[1;32m----> 3\u001b[0m \u001b[38;5;28mprint\u001b[39m(data[\u001b[38;5;241m~\u001b[39m\u001b[43mdata\u001b[49m\u001b[43m[\u001b[49m\u001b[38;5;124;43m'\u001b[39;49m\u001b[38;5;124;43mprice\u001b[39;49m\u001b[38;5;124;43m'\u001b[39;49m\u001b[43m]\u001b[49m\u001b[38;5;241;43m.\u001b[39;49m\u001b[43mstr\u001b[49m\u001b[38;5;241m.\u001b[39mreplace(\u001b[38;5;124m'\u001b[39m\u001b[38;5;124m₫\u001b[39m\u001b[38;5;124m'\u001b[39m, \u001b[38;5;124m'\u001b[39m\u001b[38;5;124m'\u001b[39m)\u001b[38;5;241m.\u001b[39mstr\u001b[38;5;241m.\u001b[39mreplace(\u001b[38;5;124m'\u001b[39m\u001b[38;5;124m,\u001b[39m\u001b[38;5;124m'\u001b[39m, \u001b[38;5;124m'\u001b[39m\u001b[38;5;124m'\u001b[39m)\u001b[38;5;241m.\u001b[39mstr\u001b[38;5;241m.\u001b[39misnumeric()])  \u001b[38;5;66;03m# Kiểm tra giá trị không hợp lệ\u001b[39;00m\n\u001b[0;32m      5\u001b[0m \u001b[38;5;28mprint\u001b[39m(\u001b[38;5;124m\"\u001b[39m\u001b[38;5;124mGiá trị không hợp lệ trong \u001b[39m\u001b[38;5;124m'\u001b[39m\u001b[38;5;124msold\u001b[39m\u001b[38;5;124m'\u001b[39m\u001b[38;5;124m:\u001b[39m\u001b[38;5;124m\"\u001b[39m)\n\u001b[0;32m      6\u001b[0m \u001b[38;5;28mprint\u001b[39m(data[\u001b[38;5;241m~\u001b[39mdata[\u001b[38;5;124m'\u001b[39m\u001b[38;5;124msold\u001b[39m\u001b[38;5;124m'\u001b[39m]\u001b[38;5;241m.\u001b[39mstr\u001b[38;5;241m.\u001b[39mreplace(\u001b[38;5;124m'\u001b[39m\u001b[38;5;124m sold\u001b[39m\u001b[38;5;124m'\u001b[39m, \u001b[38;5;124m'\u001b[39m\u001b[38;5;124m'\u001b[39m)\u001b[38;5;241m.\u001b[39mstr\u001b[38;5;241m.\u001b[39mreplace(\u001b[38;5;124m'\u001b[39m\u001b[38;5;124mK\u001b[39m\u001b[38;5;124m'\u001b[39m, \u001b[38;5;124m'\u001b[39m\u001b[38;5;124me3\u001b[39m\u001b[38;5;124m'\u001b[39m)\u001b[38;5;241m.\u001b[39mstr\u001b[38;5;241m.\u001b[39misnumeric()])  \u001b[38;5;66;03m# Kiểm tra giá trị không hợp lệ\u001b[39;00m\n",
      "File \u001b[1;32mc:\\Users\\luong\\miniconda3\\Lib\\site-packages\\pandas\\core\\generic.py:6299\u001b[0m, in \u001b[0;36mNDFrame.__getattr__\u001b[1;34m(self, name)\u001b[0m\n\u001b[0;32m   6292\u001b[0m \u001b[38;5;28;01mif\u001b[39;00m (\n\u001b[0;32m   6293\u001b[0m     name \u001b[38;5;129;01mnot\u001b[39;00m \u001b[38;5;129;01min\u001b[39;00m \u001b[38;5;28mself\u001b[39m\u001b[38;5;241m.\u001b[39m_internal_names_set\n\u001b[0;32m   6294\u001b[0m     \u001b[38;5;129;01mand\u001b[39;00m name \u001b[38;5;129;01mnot\u001b[39;00m \u001b[38;5;129;01min\u001b[39;00m \u001b[38;5;28mself\u001b[39m\u001b[38;5;241m.\u001b[39m_metadata\n\u001b[0;32m   6295\u001b[0m     \u001b[38;5;129;01mand\u001b[39;00m name \u001b[38;5;129;01mnot\u001b[39;00m \u001b[38;5;129;01min\u001b[39;00m \u001b[38;5;28mself\u001b[39m\u001b[38;5;241m.\u001b[39m_accessors\n\u001b[0;32m   6296\u001b[0m     \u001b[38;5;129;01mand\u001b[39;00m \u001b[38;5;28mself\u001b[39m\u001b[38;5;241m.\u001b[39m_info_axis\u001b[38;5;241m.\u001b[39m_can_hold_identifiers_and_holds_name(name)\n\u001b[0;32m   6297\u001b[0m ):\n\u001b[0;32m   6298\u001b[0m     \u001b[38;5;28;01mreturn\u001b[39;00m \u001b[38;5;28mself\u001b[39m[name]\n\u001b[1;32m-> 6299\u001b[0m \u001b[38;5;28;01mreturn\u001b[39;00m \u001b[38;5;28;43mobject\u001b[39;49m\u001b[38;5;241;43m.\u001b[39;49m\u001b[38;5;21;43m__getattribute__\u001b[39;49m\u001b[43m(\u001b[49m\u001b[38;5;28;43mself\u001b[39;49m\u001b[43m,\u001b[49m\u001b[43m \u001b[49m\u001b[43mname\u001b[49m\u001b[43m)\u001b[49m\n",
      "File \u001b[1;32mc:\\Users\\luong\\miniconda3\\Lib\\site-packages\\pandas\\core\\accessor.py:224\u001b[0m, in \u001b[0;36mCachedAccessor.__get__\u001b[1;34m(self, obj, cls)\u001b[0m\n\u001b[0;32m    221\u001b[0m \u001b[38;5;28;01mif\u001b[39;00m obj \u001b[38;5;129;01mis\u001b[39;00m \u001b[38;5;28;01mNone\u001b[39;00m:\n\u001b[0;32m    222\u001b[0m     \u001b[38;5;66;03m# we're accessing the attribute of the class, i.e., Dataset.geo\u001b[39;00m\n\u001b[0;32m    223\u001b[0m     \u001b[38;5;28;01mreturn\u001b[39;00m \u001b[38;5;28mself\u001b[39m\u001b[38;5;241m.\u001b[39m_accessor\n\u001b[1;32m--> 224\u001b[0m accessor_obj \u001b[38;5;241m=\u001b[39m \u001b[38;5;28;43mself\u001b[39;49m\u001b[38;5;241;43m.\u001b[39;49m\u001b[43m_accessor\u001b[49m\u001b[43m(\u001b[49m\u001b[43mobj\u001b[49m\u001b[43m)\u001b[49m\n\u001b[0;32m    225\u001b[0m \u001b[38;5;66;03m# Replace the property with the accessor object. Inspired by:\u001b[39;00m\n\u001b[0;32m    226\u001b[0m \u001b[38;5;66;03m# https://www.pydanny.com/cached-property.html\u001b[39;00m\n\u001b[0;32m    227\u001b[0m \u001b[38;5;66;03m# We need to use object.__setattr__ because we overwrite __setattr__ on\u001b[39;00m\n\u001b[0;32m    228\u001b[0m \u001b[38;5;66;03m# NDFrame\u001b[39;00m\n\u001b[0;32m    229\u001b[0m \u001b[38;5;28mobject\u001b[39m\u001b[38;5;241m.\u001b[39m\u001b[38;5;21m__setattr__\u001b[39m(obj, \u001b[38;5;28mself\u001b[39m\u001b[38;5;241m.\u001b[39m_name, accessor_obj)\n",
      "File \u001b[1;32mc:\\Users\\luong\\miniconda3\\Lib\\site-packages\\pandas\\core\\strings\\accessor.py:191\u001b[0m, in \u001b[0;36mStringMethods.__init__\u001b[1;34m(self, data)\u001b[0m\n\u001b[0;32m    188\u001b[0m \u001b[38;5;28;01mdef\u001b[39;00m \u001b[38;5;21m__init__\u001b[39m(\u001b[38;5;28mself\u001b[39m, data) \u001b[38;5;241m-\u001b[39m\u001b[38;5;241m>\u001b[39m \u001b[38;5;28;01mNone\u001b[39;00m:\n\u001b[0;32m    189\u001b[0m     \u001b[38;5;28;01mfrom\u001b[39;00m \u001b[38;5;21;01mpandas\u001b[39;00m\u001b[38;5;21;01m.\u001b[39;00m\u001b[38;5;21;01mcore\u001b[39;00m\u001b[38;5;21;01m.\u001b[39;00m\u001b[38;5;21;01marrays\u001b[39;00m\u001b[38;5;21;01m.\u001b[39;00m\u001b[38;5;21;01mstring_\u001b[39;00m \u001b[38;5;28;01mimport\u001b[39;00m StringDtype\n\u001b[1;32m--> 191\u001b[0m     \u001b[38;5;28mself\u001b[39m\u001b[38;5;241m.\u001b[39m_inferred_dtype \u001b[38;5;241m=\u001b[39m \u001b[38;5;28;43mself\u001b[39;49m\u001b[38;5;241;43m.\u001b[39;49m\u001b[43m_validate\u001b[49m\u001b[43m(\u001b[49m\u001b[43mdata\u001b[49m\u001b[43m)\u001b[49m\n\u001b[0;32m    192\u001b[0m     \u001b[38;5;28mself\u001b[39m\u001b[38;5;241m.\u001b[39m_is_categorical \u001b[38;5;241m=\u001b[39m \u001b[38;5;28misinstance\u001b[39m(data\u001b[38;5;241m.\u001b[39mdtype, CategoricalDtype)\n\u001b[0;32m    193\u001b[0m     \u001b[38;5;28mself\u001b[39m\u001b[38;5;241m.\u001b[39m_is_string \u001b[38;5;241m=\u001b[39m \u001b[38;5;28misinstance\u001b[39m(data\u001b[38;5;241m.\u001b[39mdtype, StringDtype)\n",
      "File \u001b[1;32mc:\\Users\\luong\\miniconda3\\Lib\\site-packages\\pandas\\core\\strings\\accessor.py:245\u001b[0m, in \u001b[0;36mStringMethods._validate\u001b[1;34m(data)\u001b[0m\n\u001b[0;32m    242\u001b[0m inferred_dtype \u001b[38;5;241m=\u001b[39m lib\u001b[38;5;241m.\u001b[39minfer_dtype(values, skipna\u001b[38;5;241m=\u001b[39m\u001b[38;5;28;01mTrue\u001b[39;00m)\n\u001b[0;32m    244\u001b[0m \u001b[38;5;28;01mif\u001b[39;00m inferred_dtype \u001b[38;5;129;01mnot\u001b[39;00m \u001b[38;5;129;01min\u001b[39;00m allowed_types:\n\u001b[1;32m--> 245\u001b[0m     \u001b[38;5;28;01mraise\u001b[39;00m \u001b[38;5;167;01mAttributeError\u001b[39;00m(\u001b[38;5;124m\"\u001b[39m\u001b[38;5;124mCan only use .str accessor with string values!\u001b[39m\u001b[38;5;124m\"\u001b[39m)\n\u001b[0;32m    246\u001b[0m \u001b[38;5;28;01mreturn\u001b[39;00m inferred_dtype\n",
      "\u001b[1;31mAttributeError\u001b[0m: Can only use .str accessor with string values!"
     ]
    }
   ],
   "source": [
    "# Kiểm tra các giá trị không hợp lệ trong 'price' và 'sold'\n",
    "print(\"Giá trị không hợp lệ trong 'price':\")\n",
    "print(data[~data['price'].str.replace('₫', '').str.replace(',', '').str.isnumeric()])  # Kiểm tra giá trị không hợp lệ\n",
    "\n",
    "print(\"Giá trị không hợp lệ trong 'sold':\")\n",
    "print(data[~data['sold'].str.replace(' sold', '').str.replace('K', 'e3').str.isnumeric()])  # Kiểm tra giá trị không hợp lệ\n",
    "\n",
    "# Xử lý các giá trị không hợp lệ (nếu cần)\n",
    "data['price'] = data['price'].str.replace('₫', '').str.replace(',', '').replace('', np.nan)  # Thay thế giá trị rỗng bằng NaN\n",
    "data['sold'] = data['sold'].str.replace(' sold', '').str.replace('K', 'e3').replace('', np.nan)  # Thay thế giá trị rỗng bằng NaN\n",
    "\n",
    "# Chuyển đổi sang dạng số\n",
    "data['price'] = pd.to_numeric(data['price'], errors='coerce')\n",
    "data['sold'] = pd.to_numeric(data['sold'], errors='coerce')\n",
    "\n",
    "# Loại bỏ các dòng có giá trị null trong 'price' hoặc 'sold'\n",
    "data = data.dropna(subset=['price', 'sold'])"
   ]
  },
  {
   "cell_type": "code",
   "execution_count": 17,
   "metadata": {},
   "outputs": [
    {
     "name": "stdout",
     "output_type": "stream",
     "text": [
      "<class 'pandas.core.frame.DataFrame'>\n",
      "Index: 1033 entries, 0 to 1069\n",
      "Data columns (total 7 columns):\n",
      " #   Column         Non-Null Count  Dtype  \n",
      "---  ------         --------------  -----  \n",
      " 0   product_name   1033 non-null   object \n",
      " 1   store_name     1033 non-null   object \n",
      " 2   rating         1033 non-null   object \n",
      " 3   comment_count  1033 non-null   object \n",
      " 4   price          1033 non-null   float64\n",
      " 5   sold           1033 non-null   float64\n",
      " 6   link           1033 non-null   object \n",
      "dtypes: float64(2), object(5)\n",
      "memory usage: 64.6+ KB\n"
     ]
    }
   ],
   "source": [
    "data.info()"
   ]
  },
  {
   "cell_type": "code",
   "execution_count": 18,
   "metadata": {},
   "outputs": [
    {
     "data": {
      "text/html": [
       "<div>\n",
       "<style scoped>\n",
       "    .dataframe tbody tr th:only-of-type {\n",
       "        vertical-align: middle;\n",
       "    }\n",
       "\n",
       "    .dataframe tbody tr th {\n",
       "        vertical-align: top;\n",
       "    }\n",
       "\n",
       "    .dataframe thead th {\n",
       "        text-align: right;\n",
       "    }\n",
       "</style>\n",
       "<table border=\"1\" class=\"dataframe\">\n",
       "  <thead>\n",
       "    <tr style=\"text-align: right;\">\n",
       "      <th></th>\n",
       "      <th>product_name</th>\n",
       "      <th>store_name</th>\n",
       "      <th>rating</th>\n",
       "      <th>comment_count</th>\n",
       "      <th>price</th>\n",
       "      <th>sold</th>\n",
       "      <th>link</th>\n",
       "    </tr>\n",
       "  </thead>\n",
       "  <tbody>\n",
       "    <tr>\n",
       "      <th>3</th>\n",
       "      <td>Thẻ Nhớ Kioxia 32GB và Thẻ Nhớ Sandisk (64GB/1...</td>\n",
       "      <td>EZVIZ VN Authorized Store</td>\n",
       "      <td>5.0</td>\n",
       "      <td>750.0</td>\n",
       "      <td>159000.0</td>\n",
       "      <td>2800.0</td>\n",
       "      <td>https://www.lazada.vn/products/the-nho-kioxia-...</td>\n",
       "    </tr>\n",
       "    <tr>\n",
       "      <th>9</th>\n",
       "      <td>♥COD + Thẻ Nhớ Micro SD TOSHIBA Chính Hãng Chí...</td>\n",
       "      <td>sbiqdn store</td>\n",
       "      <td>4.6</td>\n",
       "      <td>1016.0</td>\n",
       "      <td>32000.0</td>\n",
       "      <td>4700.0</td>\n",
       "      <td>https://www.lazada.vn/products/cod-the-nho-mic...</td>\n",
       "    </tr>\n",
       "    <tr>\n",
       "      <th>16</th>\n",
       "      <td>💞【Readystock】 + Giao hàng miễn phí + cá tuyết💞...</td>\n",
       "      <td>AUGUST-MALL ZERO</td>\n",
       "      <td>4.5</td>\n",
       "      <td>95.0</td>\n",
       "      <td>69000.0</td>\n",
       "      <td>281.0</td>\n",
       "      <td>https://www.lazada.vn/products/readystock-giao...</td>\n",
       "    </tr>\n",
       "    <tr>\n",
       "      <th>21</th>\n",
       "      <td>Sony Thẻ nhớ Micro SD 32GB/64GB/128GB/256GB/51...</td>\n",
       "      <td>Electronic Collection Shop</td>\n",
       "      <td>4.7</td>\n",
       "      <td>36.0</td>\n",
       "      <td>75000.0</td>\n",
       "      <td>48.0</td>\n",
       "      <td>https://www.lazada.vn/products/sony-the-nho-mi...</td>\n",
       "    </tr>\n",
       "    <tr>\n",
       "      <th>25</th>\n",
       "      <td>Thẻ nhớ 2G Thẻ Nhớ Micro SD Dung Lượng 2G Giao...</td>\n",
       "      <td>KEN warehouse</td>\n",
       "      <td>5.0</td>\n",
       "      <td>3.0</td>\n",
       "      <td>22000.0</td>\n",
       "      <td>41.0</td>\n",
       "      <td>https://www.lazada.vn/products/the-nho-2g-the-...</td>\n",
       "    </tr>\n",
       "  </tbody>\n",
       "</table>\n",
       "</div>"
      ],
      "text/plain": [
       "                                         product_name  \\\n",
       "3   Thẻ Nhớ Kioxia 32GB và Thẻ Nhớ Sandisk (64GB/1...   \n",
       "9   ♥COD + Thẻ Nhớ Micro SD TOSHIBA Chính Hãng Chí...   \n",
       "16  💞【Readystock】 + Giao hàng miễn phí + cá tuyết💞...   \n",
       "21  Sony Thẻ nhớ Micro SD 32GB/64GB/128GB/256GB/51...   \n",
       "25  Thẻ nhớ 2G Thẻ Nhớ Micro SD Dung Lượng 2G Giao...   \n",
       "\n",
       "                    store_name rating  comment_count     price    sold  \\\n",
       "3    EZVIZ VN Authorized Store    5.0          750.0  159000.0  2800.0   \n",
       "9                 sbiqdn store    4.6         1016.0   32000.0  4700.0   \n",
       "16            AUGUST-MALL ZERO    4.5           95.0   69000.0   281.0   \n",
       "21  Electronic Collection Shop    4.7           36.0   75000.0    48.0   \n",
       "25               KEN warehouse    5.0            3.0   22000.0    41.0   \n",
       "\n",
       "                                                 link  \n",
       "3   https://www.lazada.vn/products/the-nho-kioxia-...  \n",
       "9   https://www.lazada.vn/products/cod-the-nho-mic...  \n",
       "16  https://www.lazada.vn/products/readystock-giao...  \n",
       "21  https://www.lazada.vn/products/sony-the-nho-mi...  \n",
       "25  https://www.lazada.vn/products/the-nho-2g-the-...  "
      ]
     },
     "execution_count": 18,
     "metadata": {},
     "output_type": "execute_result"
    }
   ],
   "source": [
    "# Xử lý comment_count\n",
    "# - Thay thế giá trị \"không có bình luận\" bằng NaN\n",
    "data['comment_count'] = data['comment_count'].replace('Không có đánh giá', np.nan)\n",
    "\n",
    "# - Trích xuất số lượng bình luận từ chuỗi\n",
    "data['comment_count'] = data['comment_count'].str.extract(r'(\\d+)').astype(float)\n",
    "\n",
    "data = data.dropna(subset=['comment_count'])\n",
    "\n",
    "data.head()"
   ]
  },
  {
   "cell_type": "code",
   "execution_count": 19,
   "metadata": {},
   "outputs": [
    {
     "name": "stdout",
     "output_type": "stream",
     "text": [
      "<class 'pandas.core.frame.DataFrame'>\n",
      "Index: 549 entries, 3 to 1068\n",
      "Data columns (total 7 columns):\n",
      " #   Column         Non-Null Count  Dtype  \n",
      "---  ------         --------------  -----  \n",
      " 0   product_name   549 non-null    object \n",
      " 1   store_name     549 non-null    object \n",
      " 2   rating         549 non-null    object \n",
      " 3   comment_count  549 non-null    float64\n",
      " 4   price          549 non-null    float64\n",
      " 5   sold           549 non-null    float64\n",
      " 6   link           549 non-null    object \n",
      "dtypes: float64(3), object(4)\n",
      "memory usage: 34.3+ KB\n"
     ]
    }
   ],
   "source": [
    "data.info()"
   ]
  },
  {
   "cell_type": "code",
   "execution_count": 20,
   "metadata": {},
   "outputs": [
    {
     "ename": "KeyError",
     "evalue": "\"['estimated_revenue'] not in index\"",
     "output_type": "error",
     "traceback": [
      "\u001b[1;31m---------------------------------------------------------------------------\u001b[0m",
      "\u001b[1;31mKeyError\u001b[0m                                  Traceback (most recent call last)",
      "Cell \u001b[1;32mIn[20], line 5\u001b[0m\n\u001b[0;32m      3\u001b[0m numeric_cols \u001b[38;5;241m=\u001b[39m [\u001b[38;5;124m'\u001b[39m\u001b[38;5;124mprice\u001b[39m\u001b[38;5;124m'\u001b[39m, \u001b[38;5;124m'\u001b[39m\u001b[38;5;124msold\u001b[39m\u001b[38;5;124m'\u001b[39m, \u001b[38;5;124m'\u001b[39m\u001b[38;5;124mestimated_revenue\u001b[39m\u001b[38;5;124m'\u001b[39m]\n\u001b[0;32m      4\u001b[0m scaler \u001b[38;5;241m=\u001b[39m StandardScaler()\n\u001b[1;32m----> 5\u001b[0m data_scaled \u001b[38;5;241m=\u001b[39m scaler\u001b[38;5;241m.\u001b[39mfit_transform(\u001b[43mdata\u001b[49m\u001b[43m[\u001b[49m\u001b[43mnumeric_cols\u001b[49m\u001b[43m]\u001b[49m)\n\u001b[0;32m      7\u001b[0m \u001b[38;5;66;03m# Chuyển dữ liệu đã chuẩn hóa thành DataFrame\u001b[39;00m\n\u001b[0;32m      8\u001b[0m scaled_df \u001b[38;5;241m=\u001b[39m pd\u001b[38;5;241m.\u001b[39mDataFrame(data_scaled, columns\u001b[38;5;241m=\u001b[39m[\u001b[38;5;124mf\u001b[39m\u001b[38;5;124m\"\u001b[39m\u001b[38;5;132;01m{\u001b[39;00mcol\u001b[38;5;132;01m}\u001b[39;00m\u001b[38;5;124m_scaled\u001b[39m\u001b[38;5;124m\"\u001b[39m \u001b[38;5;28;01mfor\u001b[39;00m col \u001b[38;5;129;01min\u001b[39;00m numeric_cols])\n",
      "File \u001b[1;32mc:\\Users\\luong\\miniconda3\\Lib\\site-packages\\pandas\\core\\frame.py:4108\u001b[0m, in \u001b[0;36mDataFrame.__getitem__\u001b[1;34m(self, key)\u001b[0m\n\u001b[0;32m   4106\u001b[0m     \u001b[38;5;28;01mif\u001b[39;00m is_iterator(key):\n\u001b[0;32m   4107\u001b[0m         key \u001b[38;5;241m=\u001b[39m \u001b[38;5;28mlist\u001b[39m(key)\n\u001b[1;32m-> 4108\u001b[0m     indexer \u001b[38;5;241m=\u001b[39m \u001b[38;5;28;43mself\u001b[39;49m\u001b[38;5;241;43m.\u001b[39;49m\u001b[43mcolumns\u001b[49m\u001b[38;5;241;43m.\u001b[39;49m\u001b[43m_get_indexer_strict\u001b[49m\u001b[43m(\u001b[49m\u001b[43mkey\u001b[49m\u001b[43m,\u001b[49m\u001b[43m \u001b[49m\u001b[38;5;124;43m\"\u001b[39;49m\u001b[38;5;124;43mcolumns\u001b[39;49m\u001b[38;5;124;43m\"\u001b[39;49m\u001b[43m)\u001b[49m[\u001b[38;5;241m1\u001b[39m]\n\u001b[0;32m   4110\u001b[0m \u001b[38;5;66;03m# take() does not accept boolean indexers\u001b[39;00m\n\u001b[0;32m   4111\u001b[0m \u001b[38;5;28;01mif\u001b[39;00m \u001b[38;5;28mgetattr\u001b[39m(indexer, \u001b[38;5;124m\"\u001b[39m\u001b[38;5;124mdtype\u001b[39m\u001b[38;5;124m\"\u001b[39m, \u001b[38;5;28;01mNone\u001b[39;00m) \u001b[38;5;241m==\u001b[39m \u001b[38;5;28mbool\u001b[39m:\n",
      "File \u001b[1;32mc:\\Users\\luong\\miniconda3\\Lib\\site-packages\\pandas\\core\\indexes\\base.py:6200\u001b[0m, in \u001b[0;36mIndex._get_indexer_strict\u001b[1;34m(self, key, axis_name)\u001b[0m\n\u001b[0;32m   6197\u001b[0m \u001b[38;5;28;01melse\u001b[39;00m:\n\u001b[0;32m   6198\u001b[0m     keyarr, indexer, new_indexer \u001b[38;5;241m=\u001b[39m \u001b[38;5;28mself\u001b[39m\u001b[38;5;241m.\u001b[39m_reindex_non_unique(keyarr)\n\u001b[1;32m-> 6200\u001b[0m \u001b[38;5;28;43mself\u001b[39;49m\u001b[38;5;241;43m.\u001b[39;49m\u001b[43m_raise_if_missing\u001b[49m\u001b[43m(\u001b[49m\u001b[43mkeyarr\u001b[49m\u001b[43m,\u001b[49m\u001b[43m \u001b[49m\u001b[43mindexer\u001b[49m\u001b[43m,\u001b[49m\u001b[43m \u001b[49m\u001b[43maxis_name\u001b[49m\u001b[43m)\u001b[49m\n\u001b[0;32m   6202\u001b[0m keyarr \u001b[38;5;241m=\u001b[39m \u001b[38;5;28mself\u001b[39m\u001b[38;5;241m.\u001b[39mtake(indexer)\n\u001b[0;32m   6203\u001b[0m \u001b[38;5;28;01mif\u001b[39;00m \u001b[38;5;28misinstance\u001b[39m(key, Index):\n\u001b[0;32m   6204\u001b[0m     \u001b[38;5;66;03m# GH 42790 - Preserve name from an Index\u001b[39;00m\n",
      "File \u001b[1;32mc:\\Users\\luong\\miniconda3\\Lib\\site-packages\\pandas\\core\\indexes\\base.py:6252\u001b[0m, in \u001b[0;36mIndex._raise_if_missing\u001b[1;34m(self, key, indexer, axis_name)\u001b[0m\n\u001b[0;32m   6249\u001b[0m     \u001b[38;5;28;01mraise\u001b[39;00m \u001b[38;5;167;01mKeyError\u001b[39;00m(\u001b[38;5;124mf\u001b[39m\u001b[38;5;124m\"\u001b[39m\u001b[38;5;124mNone of [\u001b[39m\u001b[38;5;132;01m{\u001b[39;00mkey\u001b[38;5;132;01m}\u001b[39;00m\u001b[38;5;124m] are in the [\u001b[39m\u001b[38;5;132;01m{\u001b[39;00maxis_name\u001b[38;5;132;01m}\u001b[39;00m\u001b[38;5;124m]\u001b[39m\u001b[38;5;124m\"\u001b[39m)\n\u001b[0;32m   6251\u001b[0m not_found \u001b[38;5;241m=\u001b[39m \u001b[38;5;28mlist\u001b[39m(ensure_index(key)[missing_mask\u001b[38;5;241m.\u001b[39mnonzero()[\u001b[38;5;241m0\u001b[39m]]\u001b[38;5;241m.\u001b[39munique())\n\u001b[1;32m-> 6252\u001b[0m \u001b[38;5;28;01mraise\u001b[39;00m \u001b[38;5;167;01mKeyError\u001b[39;00m(\u001b[38;5;124mf\u001b[39m\u001b[38;5;124m\"\u001b[39m\u001b[38;5;132;01m{\u001b[39;00mnot_found\u001b[38;5;132;01m}\u001b[39;00m\u001b[38;5;124m not in index\u001b[39m\u001b[38;5;124m\"\u001b[39m)\n",
      "\u001b[1;31mKeyError\u001b[0m: \"['estimated_revenue'] not in index\""
     ]
    }
   ],
   "source": [
    "# Bước 3: Chuẩn hóa dữ liệu\n",
    "# Chỉ chuẩn hóa các cột số\n",
    "numeric_cols = ['price', 'sold', 'estimated_revenue']\n",
    "scaler = StandardScaler()\n",
    "data_scaled = scaler.fit_transform(data[numeric_cols])\n",
    "\n",
    "# Chuyển dữ liệu đã chuẩn hóa thành DataFrame\n",
    "scaled_df = pd.DataFrame(data_scaled, columns=[f\"{col}_scaled\" for col in numeric_cols])\n",
    "\n",
    "# Kết hợp dữ liệu gốc và dữ liệu đã chuẩn hóa\n",
    "final_data = pd.concat([data.reset_index(drop=True), scaled_df], axis=1)\n",
    "\n",
    "\n",
    "\n",
    "# Bước 3: Lưu dữ liệu vào file CSV duy nhất\n",
    "output_path = 'preprocessing.csv'\n",
    "final_data.to_csv(output_path, index=False)\n",
    "print(f\"\\nDữ liệu cuối cùng đã được lưu tại: {output_path}\")\n",
    "\n"
   ]
  }
 ],
 "metadata": {
  "kernelspec": {
   "display_name": "Python 3",
   "language": "python",
   "name": "python3"
  },
  "language_info": {
   "codemirror_mode": {
    "name": "ipython",
    "version": 3
   },
   "file_extension": ".py",
   "mimetype": "text/x-python",
   "name": "python",
   "nbconvert_exporter": "python",
   "pygments_lexer": "ipython3",
   "version": "3.12.7"
  }
 },
 "nbformat": 4,
 "nbformat_minor": 2
}
