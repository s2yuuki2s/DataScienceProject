{
 "cells": [
  {
   "cell_type": "markdown",
   "metadata": {},
   "source": [
    "### Chuẩn hóa dữ liệu"
   ]
  },
  {
   "cell_type": "code",
   "execution_count": 1,
   "metadata": {},
   "outputs": [],
   "source": [
    "from sklearn.preprocessing import MinMaxScaler\n",
    "import pandas as pd"
   ]
  },
  {
   "cell_type": "code",
   "execution_count": 2,
   "metadata": {},
   "outputs": [
    {
     "name": "stdout",
     "output_type": "stream",
     "text": [
      "Hoàn thành chuẩn hóa và lưu vào normalization.csv\n",
      "Thông tin dữ liệu đã chuẩn hóa:\n",
      "<class 'pandas.core.frame.DataFrame'>\n",
      "Index: 1452 entries, 0 to 1698\n",
      "Data columns (total 5 columns):\n",
      " #   Column         Non-Null Count  Dtype  \n",
      "---  ------         --------------  -----  \n",
      " 0   product_name   1452 non-null   object \n",
      " 1   rating         1452 non-null   float64\n",
      " 2   comment_count  1452 non-null   float64\n",
      " 3   price          1452 non-null   float64\n",
      " 4   sold           1452 non-null   float64\n",
      "dtypes: float64(4), object(1)\n",
      "memory usage: 68.1+ KB\n"
     ]
    },
    {
     "data": {
      "text/html": [
       "<div>\n",
       "<style scoped>\n",
       "    .dataframe tbody tr th:only-of-type {\n",
       "        vertical-align: middle;\n",
       "    }\n",
       "\n",
       "    .dataframe tbody tr th {\n",
       "        vertical-align: top;\n",
       "    }\n",
       "\n",
       "    .dataframe thead th {\n",
       "        text-align: right;\n",
       "    }\n",
       "</style>\n",
       "<table border=\"1\" class=\"dataframe\">\n",
       "  <thead>\n",
       "    <tr style=\"text-align: right;\">\n",
       "      <th></th>\n",
       "      <th>product_name</th>\n",
       "      <th>rating</th>\n",
       "      <th>comment_count</th>\n",
       "      <th>price</th>\n",
       "      <th>sold</th>\n",
       "    </tr>\n",
       "  </thead>\n",
       "  <tbody>\n",
       "    <tr>\n",
       "      <th>0</th>\n",
       "      <td>[HCM]Thẻ nhớ 64gb, Thẻ nhớ camera YOOSEE Micro...</td>\n",
       "      <td>0.0</td>\n",
       "      <td>0.000000</td>\n",
       "      <td>0.004536</td>\n",
       "      <td>0.005231</td>\n",
       "    </tr>\n",
       "    <tr>\n",
       "      <th>1</th>\n",
       "      <td>[HCM]Thẻ nhớ 32gb, Thẻ nhớ camera YOOSEE Micro...</td>\n",
       "      <td>0.0</td>\n",
       "      <td>0.000000</td>\n",
       "      <td>0.003530</td>\n",
       "      <td>0.033705</td>\n",
       "    </tr>\n",
       "    <tr>\n",
       "      <th>2</th>\n",
       "      <td>Thẻ nhớ TF 16GB 32GB 64GB 128GB 256GB 512GB 1T...</td>\n",
       "      <td>0.0</td>\n",
       "      <td>0.000000</td>\n",
       "      <td>0.002621</td>\n",
       "      <td>0.004938</td>\n",
       "    </tr>\n",
       "    <tr>\n",
       "      <th>3</th>\n",
       "      <td>Thẻ Nhớ Kioxia 32GB và Thẻ Nhớ Sandisk (64GB/1...</td>\n",
       "      <td>5.0</td>\n",
       "      <td>0.057169</td>\n",
       "      <td>0.008507</td>\n",
       "      <td>0.024823</td>\n",
       "    </tr>\n",
       "    <tr>\n",
       "      <th>4</th>\n",
       "      <td>Thẻ Nhớ 32 gb ( Thẻ nhớ dành chuyên cho camera...</td>\n",
       "      <td>0.0</td>\n",
       "      <td>0.000000</td>\n",
       "      <td>0.001337</td>\n",
       "      <td>0.000808</td>\n",
       "    </tr>\n",
       "  </tbody>\n",
       "</table>\n",
       "</div>"
      ],
      "text/plain": [
       "                                        product_name  rating  comment_count  \\\n",
       "0  [HCM]Thẻ nhớ 64gb, Thẻ nhớ camera YOOSEE Micro...     0.0       0.000000   \n",
       "1  [HCM]Thẻ nhớ 32gb, Thẻ nhớ camera YOOSEE Micro...     0.0       0.000000   \n",
       "2  Thẻ nhớ TF 16GB 32GB 64GB 128GB 256GB 512GB 1T...     0.0       0.000000   \n",
       "3  Thẻ Nhớ Kioxia 32GB và Thẻ Nhớ Sandisk (64GB/1...     5.0       0.057169   \n",
       "4  Thẻ Nhớ 32 gb ( Thẻ nhớ dành chuyên cho camera...     0.0       0.000000   \n",
       "\n",
       "      price      sold  \n",
       "0  0.004536  0.005231  \n",
       "1  0.003530  0.033705  \n",
       "2  0.002621  0.004938  \n",
       "3  0.008507  0.024823  \n",
       "4  0.001337  0.000808  "
      ]
     },
     "execution_count": 2,
     "metadata": {},
     "output_type": "execute_result"
    }
   ],
   "source": [
    "# Đọc dữ liệu từ file preprocessing.csv\n",
    "preprocessing_file_path = '../data/processed/preprocessing.csv'\n",
    "data = pd.read_csv(preprocessing_file_path)\n",
    "\n",
    "# Kiểm tra và loại bỏ các giá trị thiếu nếu còn\n",
    "data = data.dropna(subset=['rating'])  # Đảm bảo không còn NaN trong cột 'rating'\n",
    "\n",
    "# Xác định các cột số liệu cần chuẩn hóa\n",
    "numerical_columns = [ 'comment_count', 'price', 'sold']\n",
    "\n",
    "# Chuẩn hóa các cột số liệu bằng Min-Max Scaling\n",
    "scaler = MinMaxScaler()\n",
    "data[numerical_columns] = scaler.fit_transform(data[numerical_columns])\n",
    "\n",
    "# Lưu kết quả vào file normalize.csv\n",
    "normalized_file_path = '../data/processed/normalization.csv'\n",
    "data.to_csv(normalized_file_path, index=False)\n",
    "\n",
    "print(\"Hoàn thành chuẩn hóa và lưu vào normalization.csv\")\n",
    "# Hiển thị thông tin về tập dữ liệu\n",
    "print(\"Thông tin dữ liệu đã chuẩn hóa:\")\n",
    "data.info()\n",
    "data.head()"
   ]
  }
 ],
 "metadata": {
  "kernelspec": {
   "display_name": "Python 3",
   "language": "python",
   "name": "python3"
  },
  "language_info": {
   "codemirror_mode": {
    "name": "ipython",
    "version": 3
   },
   "file_extension": ".py",
   "mimetype": "text/x-python",
   "name": "python",
   "nbconvert_exporter": "python",
   "pygments_lexer": "ipython3",
   "version": "3.13.0"
  }
 },
 "nbformat": 4,
 "nbformat_minor": 2
}
