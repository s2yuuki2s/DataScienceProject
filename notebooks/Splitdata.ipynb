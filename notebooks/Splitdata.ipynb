{
 "cells": [
  {
   "cell_type": "markdown",
   "metadata": {},
   "source": [
    "### Split data theo tỉ lệ 7:3  "
   ]
  },
  {
   "cell_type": "code",
   "execution_count": 3,
   "metadata": {},
   "outputs": [],
   "source": [
    "import pandas as pd\n",
    "from sklearn.model_selection import train_test_split"
   ]
  },
  {
   "cell_type": "code",
   "execution_count": 4,
   "metadata": {},
   "outputs": [
    {
     "name": "stdout",
     "output_type": "stream",
     "text": [
      "Train and test datasets have been saved:\n",
      "Train data: ../data/processed/train_data.csv\n",
      "Test data: ../data/processed/test_data.csv\n"
     ]
    }
   ],
   "source": [
    "# Load the dataset\n",
    "data = pd.read_csv('../data/processed/normalization.csv')\n",
    "\n",
    "# Split the data\n",
    "train_data, test_data = train_test_split(data, test_size=0.3, random_state=42)\n",
    "\n",
    "# Save train and test datasets\n",
    "train_data.to_csv('../data/processed/train_data.csv', index=False)\n",
    "test_data.to_csv('../data/processed/test_data.csv', index=False)\n",
    "\n",
    "print(\"Train and test datasets have been saved:\")\n",
    "print(\"Train data: ../data/processed/train_data.csv\")\n",
    "print(\"Test data: ../data/processed/test_data.csv\")"
   ]
  }
 ],
 "metadata": {
  "kernelspec": {
   "display_name": "Python 3",
   "language": "python",
   "name": "python3"
  },
  "language_info": {
   "codemirror_mode": {
    "name": "ipython",
    "version": 3
   },
   "file_extension": ".py",
   "mimetype": "text/x-python",
   "name": "python",
   "nbconvert_exporter": "python",
   "pygments_lexer": "ipython3",
   "version": "3.13.0"
  }
 },
 "nbformat": 4,
 "nbformat_minor": 2
}
