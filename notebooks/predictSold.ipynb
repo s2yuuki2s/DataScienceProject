{
 "cells": [
  {
   "cell_type": "markdown",
   "metadata": {},
   "source": [
    "##### Câu hỏi: Dự đoán số lượng hàng bán của sản phẩm dựa vào đánh giá, số lượng đánh giá.\n",
    "##### Khi trả lời được câu hỏi:\n",
    "- Tối ưu hóa chiến lược bán hàng: Dự đoán số lượng bán giúp bạn đưa ra quyết định chiến lược bán hàng tốt hơn, chẳng hạn như giá sản phẩm hoặc các chiến dịch quảng cáo.\n",
    "- Đánh giá hiệu suất mô hình: So sánh các mô hình học máy giúp bạn chọn ra mô hình tốt nhất cho bài toán dự đoán số lượng bán.\n",
    "##### Cách làm"
   ]
  },
  {
   "cell_type": "code",
   "execution_count": 3,
   "metadata": {},
   "outputs": [],
   "source": [
    "# Libraries\n",
    "import pandas as pd\n",
    "import matplotlib.pyplot as plt\n",
    "import numpy as np\n",
    "import seaborn as sns\n",
    "from sklearn.model_selection import GridSearchCV\n",
    "from sklearn.linear_model import LinearRegression\n",
    "from sklearn.ensemble import RandomForestRegressor, GradientBoostingRegressor\n",
    "from sklearn.svm import SVR\n",
    "from sklearn.metrics import mean_squared_error, mean_absolute_error, r2_score"
   ]
  },
  {
   "cell_type": "code",
   "execution_count": 4,
   "metadata": {},
   "outputs": [],
   "source": [
    "# Load training and test data\n",
    "train_file_path = '../data/processed/train_data.csv'\n",
    "test_file_path = '../data/processed/test_data.csv'"
   ]
  },
  {
   "cell_type": "code",
   "execution_count": 5,
   "metadata": {},
   "outputs": [],
   "source": [
    "# read training and test data\n",
    "train_data = pd.read_csv(train_file_path)\n",
    "test_data = pd.read_csv(test_file_path)"
   ]
  },
  {
   "cell_type": "code",
   "execution_count": 6,
   "metadata": {},
   "outputs": [
    {
     "name": "stdout",
     "output_type": "stream",
     "text": [
      "Train data head:                                         product_name  rating  comment_count  \\\n",
      "0             Laptop giá rẻ phục vụ online, giải trí     4.7       0.010290   \n",
      "1  Bàn Chải Điện Làm Trắng Răng Halio Sonic White...     4.9       0.047412   \n",
      "2  Sạc nhanh 120W, Củ sạc + Cáp sạc nhanh USB to ...     4.9       0.020123   \n",
      "3  Robot hút bụi cao cấp Sweepin,Máy Hút Bụi Tự Đ...     4.9       0.003659   \n",
      "4  Củ sạc Sạc nhanh 33W OPPO / Củ cáp sạc nhanh O...     4.9       0.003201   \n",
      "\n",
      "      price      sold  \n",
      "0  0.090962  0.002309  \n",
      "1  0.041828  0.026600  \n",
      "2  0.003156  0.007514  \n",
      "3  0.013108  0.000586  \n",
      "4  0.001872  0.001163  \n",
      "Test data head:                                         product_name  rating  comment_count  \\\n",
      "0            [QT KHÔNG BÁN] Máy đo huyết áp Glucerna     5.0       0.000457   \n",
      "1  XiaoZhubangchu Máy Lọc Không Khí Máy Khử Trùng...     0.0       0.000000   \n",
      "2  Máy chơi game cầm tay Ps5, Bluetooth v5.1, Pin...     0.0       0.000000   \n",
      "3  【Miễn phí vận chuyển】Đèn học để bàn, Đèn bàn h...     4.8       0.002439   \n",
      "4  HUB 4 cổng Tốc độ cao USB 3.0 Mở rộng bộ chia ...     4.9       0.048479   \n",
      "\n",
      "      price      sold  \n",
      "0  0.053506  0.000107  \n",
      "1  0.018191  0.007656  \n",
      "2  0.021348  0.001163  \n",
      "3  0.002553  0.001199  \n",
      "4  0.000582  0.013278  \n"
     ]
    }
   ],
   "source": [
    "# check data\n",
    "print(\"Train data head:\", train_data.head())\n",
    "print(\"Test data head:\", test_data.head())"
   ]
  },
  {
   "cell_type": "code",
   "execution_count": 7,
   "metadata": {},
   "outputs": [],
   "source": [
    "# Setup X train and y train\n",
    "X_train = train_data[['comment_count', 'rating']]\n",
    "y_train = train_data['sold']"
   ]
  },
  {
   "cell_type": "code",
   "execution_count": 8,
   "metadata": {},
   "outputs": [],
   "source": [
    "# Setup X_test and y_test\n",
    "X_test = test_data[['comment_count', 'rating']]\n",
    "y_test = test_data['sold']"
   ]
  },
  {
   "cell_type": "code",
   "execution_count": 9,
   "metadata": {},
   "outputs": [],
   "source": [
    "# Initialize the models\n",
    "models = {\n",
    "    \"Linear Regression\": LinearRegression(),\n",
    "    \"Random Forest\": RandomForestRegressor(),\n",
    "    \"Gradient Boosting\": GradientBoostingRegressor(),\n",
    "    \"SVM\": SVR()\n",
    "}"
   ]
  },
  {
   "cell_type": "code",
   "execution_count": 10,
   "metadata": {},
   "outputs": [],
   "source": [
    "# Hyperparameters to tune\n",
    "param_grids = {\n",
    "    \"Linear Regression\": {},\n",
    "    \"Random Forest\": {'n_estimators': [50, 100, 200], 'max_depth': [10, 20, None]},\n",
    "    \"Gradient Boosting\": {'n_estimators': [50, 100, 200], 'learning_rate': [0.01, 0.1, 0.5], 'max_depth': [3, 5, 7]},\n",
    "    \"SVM\": {'C': [0.1, 1, 10], 'kernel': ['linear', 'rbf']}\n",
    "}"
   ]
  },
  {
   "cell_type": "code",
   "execution_count": 11,
   "metadata": {},
   "outputs": [
    {
     "name": "stdout",
     "output_type": "stream",
     "text": [
      "Training model: Linear Regression\n",
      "Training model: Random Forest\n"
     ]
    },
    {
     "name": "stderr",
     "output_type": "stream",
     "text": [
      "c:\\Users\\luong\\miniconda3\\Lib\\site-packages\\sklearn\\metrics\\_regression.py:492: FutureWarning: 'squared' is deprecated in version 1.4 and will be removed in 1.6. To calculate the root mean squared error, use the function'root_mean_squared_error'.\n",
      "  warnings.warn(\n",
      "c:\\Users\\luong\\miniconda3\\Lib\\site-packages\\sklearn\\metrics\\_regression.py:492: FutureWarning: 'squared' is deprecated in version 1.4 and will be removed in 1.6. To calculate the root mean squared error, use the function'root_mean_squared_error'.\n",
      "  warnings.warn(\n"
     ]
    },
    {
     "name": "stdout",
     "output_type": "stream",
     "text": [
      "Training model: Gradient Boosting\n"
     ]
    },
    {
     "name": "stderr",
     "output_type": "stream",
     "text": [
      "c:\\Users\\luong\\miniconda3\\Lib\\site-packages\\sklearn\\metrics\\_regression.py:492: FutureWarning: 'squared' is deprecated in version 1.4 and will be removed in 1.6. To calculate the root mean squared error, use the function'root_mean_squared_error'.\n",
      "  warnings.warn(\n"
     ]
    },
    {
     "name": "stdout",
     "output_type": "stream",
     "text": [
      "Training model: SVM\n",
      "\n",
      "Model: Linear Regression\n",
      "Best Parameters: {}\n",
      "MSE: 0.0004\n",
      "RMSE: 0.0198\n",
      "MAE: 0.0108\n",
      "R2: 0.5032\n",
      "\n",
      "Model: Random Forest\n",
      "Best Parameters: {'max_depth': 20, 'n_estimators': 200}\n",
      "MSE: 0.0006\n",
      "RMSE: 0.0244\n",
      "MAE: 0.0117\n",
      "R2: 0.2463\n",
      "\n",
      "Model: Gradient Boosting\n",
      "Best Parameters: {'learning_rate': 0.01, 'max_depth': 3, 'n_estimators': 200}\n",
      "MSE: 0.0005\n",
      "RMSE: 0.0226\n",
      "MAE: 0.0117\n",
      "R2: 0.3568\n",
      "\n",
      "Model: SVM\n",
      "Best Parameters: {'C': 10, 'kernel': 'rbf'}\n",
      "MSE: 0.0085\n",
      "RMSE: 0.0920\n",
      "MAE: 0.0905\n",
      "R2: -9.6814\n"
     ]
    },
    {
     "name": "stderr",
     "output_type": "stream",
     "text": [
      "c:\\Users\\luong\\miniconda3\\Lib\\site-packages\\sklearn\\metrics\\_regression.py:492: FutureWarning: 'squared' is deprecated in version 1.4 and will be removed in 1.6. To calculate the root mean squared error, use the function'root_mean_squared_error'.\n",
      "  warnings.warn(\n"
     ]
    }
   ],
   "source": [
    "results = {}\n",
    "for model_name, model in models.items():\n",
    "    print(f\"Training model: {model_name}\")\n",
    "    param_grid = param_grids[model_name]\n",
    "    \n",
    "    # Hyperparameter Tuning with GridSearchCV\n",
    "    grid_search = GridSearchCV(model, param_grid, cv=5, scoring='neg_mean_squared_error')\n",
    "    grid_search.fit(X_train, y_train)\n",
    "    \n",
    "    # Get the optimal model\n",
    "    best_model = grid_search.best_estimator_\n",
    "    \n",
    "    # Model prediction and evaluation\n",
    "    y_pred = best_model.predict(X_test)\n",
    "    \n",
    "    # Calculate the indexes\n",
    "    mse = mean_squared_error(y_test, y_pred)\n",
    "    rmse = mean_squared_error(y_test, y_pred, squared=False)\n",
    "    mae = mean_absolute_error(y_test, y_pred)\n",
    "    r2 = r2_score(y_test, y_pred)\n",
    "    \n",
    "    # Save result\n",
    "    results[model_name] = {\n",
    "        \"Best Parameters\": grid_search.best_params_,\n",
    "        \"MSE\": mse,\n",
    "        \"RMSE\": rmse,\n",
    "        \"MAE\": mae,\n",
    "        \"R2\": r2\n",
    "    }\n",
    "\n",
    "# Show result\n",
    "for model_name, metrics in results.items():\n",
    "    print(f\"\\nModel: {model_name}\")\n",
    "    print(f\"Best Parameters: {metrics['Best Parameters']}\")\n",
    "    print(f\"MSE: {metrics['MSE']:.4f}\")\n",
    "    print(f\"RMSE: {metrics['RMSE']:.4f}\")\n",
    "    print(f\"MAE: {metrics['MAE']:.4f}\")\n",
    "    print(f\"R2: {metrics['R2']:.4f}\")"
   ]
  },
  {
   "cell_type": "code",
   "execution_count": 12,
   "metadata": {},
   "outputs": [
    {
     "data": {
      "image/png": "[encoded data removed]",
      "text/plain": [
       "<Figure size 600x600 with 1 Axes>"
      ]
     },
     "metadata": {},
     "output_type": "display_data"
    }
   ],
   "source": [
    "# Visualize the predicted vs actual sold values\n",
    "plt.figure(figsize=(6, 6))\n",
    "plt.scatter(y_test, y_pred)\n",
    "plt.xlabel('Actual Sold')\n",
    "plt.ylabel('Predicted Sold')\n",
    "plt.title('Actual vs Predicted Sold')\n",
    "plt.show()"
   ]
  },
  {
   "cell_type": "markdown",
   "metadata": {},
   "source": [
    "#### Từ kết quả nhận được có thể thấy mô hình hồi quy tuyến tính đưa ra kết quả với độ chính xác tốt nhất. Đây là mô hình tốt nhất có thể dùng để giải quyết câu hỏi được đưa ra."
   ]
  }
 ],
 "metadata": {
  "kernelspec": {
   "display_name": "Python 3",
   "language": "python",
   "name": "python3"
  },
  "language_info": {
   "codemirror_mode": {
    "name": "ipython",
    "version": 3
   },
   "file_extension": ".py",
   "mimetype": "text/x-python",
   "name": "python",
   "nbconvert_exporter": "python",
   "pygments_lexer": "ipython3",
   "version": "3.12.8"
  }
 },
 "nbformat": 4,
 "nbformat_minor": 2
}
