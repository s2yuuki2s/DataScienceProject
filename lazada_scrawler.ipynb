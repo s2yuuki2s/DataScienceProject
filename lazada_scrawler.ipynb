{
 "cells": [
  {
   "cell_type": "markdown",
   "metadata": {},
   "source": [
    "#### Use selenium and beautifulsoup to crawl data from lazada"
   ]
  },
  {
   "cell_type": "code",
   "execution_count": 9,
   "metadata": {},
   "outputs": [
    {
     "data": {
      "text/plain": [
       "' %pip install selenium \\n%pip install beautifulsoup4\\n%pip install pandas\\n%pip install requests '"
      ]
     },
     "execution_count": 9,
     "metadata": {},
     "output_type": "execute_result"
    }
   ],
   "source": [
    "# Install necesary packages\n",
    "\"\"\" %pip install selenium \n",
    "%pip install beautifulsoup4\n",
    "%pip install pandas\n",
    "%pip install requests \"\"\""
   ]
  },
  {
   "cell_type": "code",
   "execution_count": 1,
   "metadata": {},
   "outputs": [],
   "source": [
    "from selenium import webdriver\n",
    "from selenium.webdriver.common.by import By\n",
    "from selenium.webdriver.support.ui import WebDriverWait\n",
    "from selenium.webdriver.support import expected_conditions as EC\n",
    "import pandas as pd\n",
    "import time\n",
    "import csv"
   ]
  },
  {
   "cell_type": "code",
   "execution_count": 2,
   "metadata": {},
   "outputs": [],
   "source": [
    "def product_on_page(url, keyword):\n",
    "    \"\"\"\n",
    "    Scrapes product information from a Lazada search page based on a given keyword.\n",
    "\n",
    "    This function uses Selenium to search for a specific keyword on the Lazada website, \n",
    "    retrieves product links, prices, and sold counts for all products on the first page, \n",
    "    and optionally paginates through additional pages to gather more data.\n",
    "\n",
    "    Parameters:\n",
    "        url (str): The URL of the Lazada homepage or search page to start scraping.\n",
    "        keyword (str): The keyword to search for on the Lazada platform.\n",
    "\n",
    "    Returns:\n",
    "        list: A list of dictionaries containing product information:\n",
    "            - link (str): The URL of the product page.\n",
    "            - price (str or None): The price of the product as displayed.\n",
    "            - sold (str or None): The number of units sold, if available.\n",
    "    \"\"\"\n",
    "    browser = webdriver.Chrome()\n",
    "    browser.maximize_window()\n",
    "    browser.get(url)\n",
    "    browser.implicitly_wait(120) \n",
    "\n",
    "    search_box = browser.find_element(By.ID, \"q\")\n",
    "    search_box.send_keys(keyword)\n",
    "    search_box.submit()\n",
    "    \n",
    "    WebDriverWait(browser, 20).until(\n",
    "        EC.presence_of_all_elements_located((By.CSS_SELECTOR, \".Bm3ON\"))\n",
    "    )\n",
    "    \n",
    "    products = []\n",
    "    current_page = 0\n",
    "    \n",
    "    while current_page < 1:\n",
    "        print(f\"Load {current_page + 1}...\")\n",
    "        product_elements = browser.find_elements(By.CSS_SELECTOR, \".Bm3ON\")\n",
    "        \n",
    "        for product in product_elements:\n",
    "            try:\n",
    "                scroll_pause_time = 2   \n",
    "                last_height = browser.execute_script(\"return document.body.scrollHeight\")\n",
    "\n",
    "                while True:\n",
    "                    browser.execute_script(\"window.scrollTo(0, document.body.scrollHeight);\")\n",
    "                    time.sleep(scroll_pause_time)\n",
    "\n",
    "                    new_height = browser.execute_script(\"return document.body.scrollHeight\")\n",
    "                    if new_height == last_height:\n",
    "                        break\n",
    "                    last_height = new_height\n",
    "\n",
    "                link_element = product.find_element(By.CSS_SELECTOR, \"a\")\n",
    "                link = link_element.get_attribute(\"href\")\n",
    "                \n",
    "                try:\n",
    "                    price_element = product.find_element(By.CLASS_NAME, \"ooOxS\")\n",
    "                    price = price_element.text\n",
    "                except Exception:\n",
    "                    price = None                  \n",
    "\n",
    "                try:\n",
    "                    sold_element = product.find_element(By.CLASS_NAME, \"_1cEkb\")\n",
    "                    sold = sold_element.text\n",
    "                except Exception:\n",
    "                    sold = None   \n",
    "\n",
    "                if sold is not None:\n",
    "                    products.append({\n",
    "                        \"link\": link,\n",
    "                        \"price\": price,\n",
    "                        \"sold\": sold\n",
    "                    }) \n",
    "            except Exception as e:\n",
    "                print(f\"Error fetching product details: {e}\")\n",
    "        \n",
    "        try:\n",
    "            next_button = browser.find_element(By.CSS_SELECTOR, \"li.ant-pagination-next\")\n",
    "            if \"ant-pagination-disabled\" in next_button.get_attribute(\"class\"):\n",
    "                print(\"Not next page.\")\n",
    "                break\n",
    "            browser.execute_script(\"arguments[0].click();\", next_button)\n",
    "            time.sleep(2)   \n",
    "            current_page += 1\n",
    "        except Exception as e:\n",
    "            print(\"Can not continue:\", e)\n",
    "            break\n",
    "    \n",
    "    browser.quit()\n",
    "    \n",
    "    return products"
   ]
  },
  {
   "cell_type": "code",
   "execution_count": 3,
   "metadata": {},
   "outputs": [],
   "source": [
    "def get_product_details(url):\n",
    "    \"\"\"\n",
    "    Access a Lazada product page and retrieve detailed product information.\n",
    "\n",
    "    This function uses Selenium to navigate to the product page, scroll down to load all content,\n",
    "    and extract information such as the product name, store name, rating, and the number of comments.\n",
    "\n",
    "    Parameters:\n",
    "        url (str): The URL of the Lazada product page.\n",
    "\n",
    "    Returns:\n",
    "        dict: A dictionary containing detailed product information:\n",
    "            - product_name (str): The name of the product.\n",
    "            - store_name (str): The name of the store. If not found, the value will be \"Store not found\".\n",
    "            - rating (str): The product's rating. If no rating is available, the value will be \"No rating\".\n",
    "            - comment_count (str): The number of comments on the product. If no comments are available, the value will be \"No comments\".\n",
    "        None: Returns `None` if an error occurs during data retrieval.\n",
    "    \"\"\"\n",
    "    browser = webdriver.Chrome()\n",
    "    browser.maximize_window()\n",
    "    browser.get(url)\n",
    "    browser.implicitly_wait(120) \n",
    "\n",
    "    try:\n",
    "        scroll_pause_time = 2 \n",
    "        last_height = browser.execute_script(\"return document.body.scrollHeight\")\n",
    "\n",
    "        while True:\n",
    "            browser.execute_script(\"window.scrollTo(0, document.body.scrollHeight);\")\n",
    "            time.sleep(scroll_pause_time)\n",
    "\n",
    "            new_height = browser.execute_script(\"return document.body.scrollHeight\")\n",
    "            if new_height == last_height:\n",
    "                break\n",
    "            last_height = new_height\n",
    "\n",
    "        product_name = browser.find_element(By.CSS_SELECTOR, \"h1.pdp-mod-product-badge-title\").text\n",
    "\n",
    "        try:\n",
    "            store_name = browser.find_element(By.CSS_SELECTOR, \"div.seller-name__detail > a\").text\n",
    "        except Exception:\n",
    "            store_name = \"Không tìm thấy cửa hàng\"\n",
    "\n",
    "        try:\n",
    "            rating = browser.find_element(By.CSS_SELECTOR, \"span.score-average\").text\n",
    "        except Exception:\n",
    "            rating = \"Không có đánh giá\"\n",
    "\n",
    "        try:\n",
    "            comment_count = browser.find_element(By.CSS_SELECTOR, \"a.pdp-link.pdp-review-summary__link\").text\n",
    "        except Exception:\n",
    "            comment_count = \"Không có bình luận\"\n",
    "\n",
    "        return {\n",
    "            \"product_name\": product_name,\n",
    "            \"store_name\": store_name,\n",
    "            \"rating\": rating,\n",
    "            \"comment_count\": comment_count,\n",
    "        }\n",
    "    except Exception as e:\n",
    "        print(f\"Error fetching product details: {e}\")\n",
    "        return None\n",
    "    finally:\n",
    "        browser.quit()\n"
   ]
  },
  {
   "cell_type": "code",
   "execution_count": 6,
   "metadata": {},
   "outputs": [
    {
     "name": "stdout",
     "output_type": "stream",
     "text": [
      "Load 1...\n"
     ]
    }
   ],
   "source": [
    "url = 'https://www.lazada.vn/'\n",
    "keyword = ['màn hình di động']\n",
    "for item in keyword:\n",
    "    product_links = product_on_page(url, item)"
   ]
  },
  {
   "cell_type": "code",
   "execution_count": 5,
   "metadata": {},
   "outputs": [
    {
     "name": "stdout",
     "output_type": "stream",
     "text": [
      "[{'link': 'https://www.lazada.vn/products/robot-hut-bui-lau-nha-es330-luc-hut-cuc-manh-3000pa-quet-hut-lau-cung-luc-bao-hanh-24-thang-i2805083150.html', 'price': '₫562,000', 'sold': '929 sold'}, {'link': 'https://www.lazada.vn/products/robot-hut-bui-sweepin-robot-hut-bui-xiaomi-may-hut-bui-thong-minh-tu-dong-cho-gia-dinh-hut-bui-quet-toc-i2457976213.html', 'price': '₫163,404', 'sold': '475 sold'}, {'link': 'https://www.lazada.vn/products/chat-luong-cao-nhat-xiaomimijia-da-san-sang-de-giao-hang-robot-quet-nha-kaimeidi-quet-va-lau-nha-thong-minh-bon-trong-mot-sac-usb-i2127466042.html', 'price': '₫80,000', 'sold': '4.2K sold'}, {'link': 'https://www.lazada.vn/products/sada-robot-quet-nha-quet-va-lau-nha-thong-minh-bon-trong-mot-sac-usb-i2066978718.html', 'price': '₫80,000', 'sold': '741 sold'}, {'link': 'https://www.lazada.vn/products/chat-luong-cao-nhat-sada-robot-quet-thong-minh-may-lau-dien-lam-sach-tu-dong-may-hut-bui-don-dep-toan-bo-ngoi-nha-khoi-dong-bang-mot-phim-i1664977542.html', 'price': '₫71,000', 'sold': '2.2K sold'}, {'link': 'https://www.lazada.vn/products/hoan-toan-tu-dong-quet-robot-hut-va-quet-lau-ho-gia-dinh-luoi-bieng-nguoi-thong-minh-ba-trong-mot-may-quet-i2434512186.html', 'price': '₫59,598', 'sold': '1.7K sold'}, {'link': 'https://www.lazada.vn/products/robot-quet-nha-hut-bui-lau-nha-thong-minh-may-hut-bui-da-chuc-nang-gia-re-hot-hot-hot-i2761341807.html', 'price': '₫93,317', 'sold': '171 sold'}, {'link': 'https://www.lazada.vn/products/robot-hut-bui-lau-nha-robot-hut-bui-cao-cap-vo-cung-tien-loi-bao-hanh-12-thang-loi-1-doi-1-i2651405523.html', 'price': '₫132,000', 'sold': '318 sold'}, {'link': 'https://www.lazada.vn/products/sada-thong-minh-quet-robot-3-in-1-co-the-sac-lai-quet-de-lau-san-nha-loai-bo-bui-va-toc-long-thu-cung-may-hut-bui-i2517318200.html', 'price': '₫141,000', 'sold': '37 sold'}, {'link': 'https://www.lazada.vn/products/jiashi-robot-quet-thong-minh-may-lau-dien-lam-sach-tu-dong-may-hut-bui-don-dep-toan-bo-ngoi-nha-khoi-dong-bang-mot-phim-i2414681530.html', 'price': '₫72,000', 'sold': '334 sold'}, {'link': 'https://www.lazada.vn/products/ecovacs-deebot-u2-pro-robot-hut-bui-ecovacs-u2-pro-hut-bui-lau-san-cong-suat-vuot-troi-thoi-gian-hoat-dong-150-phut-bh-12t-tang-nuoc-lau-san-i2392646259.html', 'price': '₫3,550,000', 'sold': '253 sold'}, {'link': 'https://www.lazada.vn/products/robot-hut-bui-sweepin-robot-hut-bui-xiaomi-hut-bui-quet-nha-tu-dong-thong-minh-i2427330031.html', 'price': '₫188,520', 'sold': '352 sold'}, {'link': 'https://www.lazada.vn/products/robot-hut-bui-lau-nha-thong-minh-kaw-hang-chinh-hang-luc-hut-8000pa-dien-tich-lam-sach-200m2-cong-nghe-ai-bao-hanh-1-doi-1-i2322003212.html', 'price': '₫3,695,000', 'sold': '4.3K sold'}, {'link': 'https://www.lazada.vn/products/may-robot-hut-bui-lau-san-nha-thong-minh-3-trong-1-tien-dung-cho-gia-dinh-kem-phu-kien-j23a-loai-1-bao-hanh-12-thang-i2299148245.html', 'price': '₫56,000', 'sold': '33 sold'}, {'link': 'https://www.lazada.vn/products/may-hut-bui-may-hut-bui-cam-tay-robo-hut-bui-lau-nha-may-hut-bui-cam-tay-may-hut-bui-may-hut-bui-khong-day-may-hut-bui-giuong-nem-robots-hut-bui-may-hut-bui-mini-may-hut-bui-deerma-hut-bui-may-hut-bui-mini-cam-tay-hut-bui-cam-tay-i2502084183.html', 'price': '₫108,000', 'sold': '17 sold'}, {'link': 'https://www.lazada.vn/products/ro-bot-hut-bui-lau-nha-cao-cap-hc002-robot-hut-bui-thong-minh-may-hut-bui-lau-nha-luc-hut-manh-me-dieu-khien-qua-app-dien-thoai-cam-bien-chong-roi-chong-va-dap-tot-i2396515744.html', 'price': '₫499,000', 'sold': '151 sold'}, {'link': 'https://www.lazada.vn/products/2024-bonai-moi-2000pa-sieu-yen-tinh-3-trong-1-ung-dung-dieu-khien-tu-xa-thong-minh-quet-robot-quet-va-hut-bui-quet-nha-van-phong-su-dung-i2474344487.html', 'price': '₫788,000', 'sold': '37 sold'}, {'link': 'https://www.lazada.vn/products/chat-luong-cao-nhat-xiaomimijia-da-san-sang-de-giao-hang-robot-quet-nha-may-lam-sach-thong-minh-gia-dung-tu-dong-co-the-quet-san-nha-hut-bui-lau-nha-lam-sach-toan-bo-ngoi-nha-may-hut-bui-hut-bui-lon-nhanh-chong-may-lau-nha-sac-usb-i1519149996.html', 'price': '₫368,000', 'sold': '832 sold'}, {'link': 'https://www.lazada.vn/products/robot-hut-bui-cao-cap-sweepinmay-hut-bui-tu-dongrobot-hut-bui-cao-capluc-hut-cuc-khoe-i2650844313.html', 'price': '₫181,560', 'sold': '122 sold'}, {'link': 'https://www.lazada.vn/products/robot-hut-bui-lau-nha-thong-minh-ecovacs-y1-pro-y1-pro-plus-luc-hut-6500pa-chong-va-cham-chong-roi-hoat-dong-180-phut-i2597696325.html', 'price': '₫5,800,000', 'sold': '216 sold'}, {'link': 'https://www.lazada.vn/products/may-hut-buirobo-hut-buirobot-hut-bui-lau-nha-thong-minh-tu-dong-rs300quet-nha-khong-daylau-kho-uot-hop-nuoc-rieng-cam-bien-chong-roi-i2416050411.html', 'price': '₫654,000', 'sold': '65 sold'}, {'link': 'https://www.lazada.vn/products/robot-hut-bui-lau-nha-nk01-may-hut-bui-che-do-lau-kho-lau-uot-tu-dong-sac-khi-gan-het-pin-nhieu-che-do-hut-de-dang-lam-sach-cac-vi-tri-nhu-gam-giuong-gam-ghe-bao-hanh-12-thang-1-doi-1-i2515404439.html', 'price': '₫1,687,254', 'sold': '2.4K sold'}, {'link': 'https://www.lazada.vn/products/robot-hut-bui-cao-cap-sweepinmay-hut-bui-tu-dongrobot-hut-bui-cao-capluc-hut-cuc-khoe-cam-bien-chong-roi-thong-minh-i2768739988.html', 'price': '₫245,000', 'sold': '71 sold'}, {'link': 'https://www.lazada.vn/products/robot-hut-bui-lau-san-thong-minh-k235-robot-lau-nha-cao-cap-da-chuc-nang-3-trong-1-i2421240982.html', 'price': '₫177,020', 'sold': '386 sold'}, {'link': 'https://www.lazada.vn/products/gia-dung-2023-robot-hut-bui-lau-nha-thong-minh-robot-lau-nha-robot-hut-buitu-dong-quet-nha-hut-bui-lau-nha-robot-hut-bui-xiaomi-may-hut-bui-tu-dong-bao-hanh-1-doi-1-phat-hanh-boi-rosea-crystal-mall-i2289588155.html', 'price': '₫421,000', 'sold': '36 sold'}, {'link': 'https://www.lazada.vn/products/chat-luong-cao-nhat-xiaomimijia-robot-quet-thong-minh-may-lau-dien-lam-sach-tu-dong-may-hut-bui-don-dep-toan-bo-ngoi-nha-khoi-dong-bang-mot-phim-i1763190130.html', 'price': '₫71,000', 'sold': '658 sold'}, {'link': 'https://www.lazada.vn/products/robot-hut-bui-lau-nha-rs300-lau-kho-uot-hop-nuoc-rieng-cam-bien-chong-roi-lam-viec-theo-so-do-luc-hut-cuc-manh-robot-zl25a-i2093485542.html', 'price': '₫309,000', 'sold': '1.0K sold'}, {'link': 'https://www.lazada.vn/products/robot-hut-bui-lau-nha-thong-minh-sweepinrobot-quet-nha-thong-minh-may-quet-nha-may-hut-bui-nho-da-nang-bao-hanh-12-thang-i2594807400.html', 'price': '₫204,500', 'sold': '152 sold'}, {'link': 'https://www.lazada.vn/products/robot-hut-bui-robot-hut-bui-lau-nha-hc002-tu-dong-sac-khi-het-pin-ket-noi-wf-dieu-khien-app-dien-thoai-dung-cho-san-tham-gach-go-chong-roi-hut-cuc-khoe-2500pa-giam-soc-hom-nay-i2303464614.html', 'price': '₫1,690,000', 'sold': '1.0K sold'}, {'link': 'https://www.lazada.vn/products/ro-bot-hut-bui-lau-nha-cao-cap-bowai-robot-hut-bui-thong-minh-may-hut-bui-lau-nha-luc-hut-manh-me-dieu-khien-qua-app-dien-thoai-cam-bien-chong-roi-chong-va-dap-tot-hon-ecovacs-deebot-xiaomi-dien-may-xanh-i2582341731.html', 'price': '₫390,000', 'sold': '52 sold'}, {'link': 'https://www.lazada.vn/products/robot-hut-bui-lau-nha-may-hut-bui-tich-hop-hut-quet-lau-hut-sach-bui-long-toc-em-ai-pin-80-phut-gia-re-hon-bach-hoa-xanh-deebot-xiaomi-gia-giam-soc-chi-trong-hom-nay-i2303917476.html', 'price': '₫580,000', 'sold': '1.9K sold'}, {'link': 'https://www.lazada.vn/products/jiashi-robot-quet-nha-may-lam-sach-thong-minh-gia-dung-tu-dong-co-the-quet-san-nha-hut-bui-lau-nha-lam-sach-toan-bo-ngoi-nha-may-hut-bui-hut-bui-lon-nhanh-chong-may-lau-nha-sac-usb-i1549014299.html', 'price': '₫359,000', 'sold': '243 sold'}, {'link': 'https://www.lazada.vn/products/voucher-15k-robot-hut-bui-thong-minh-sweepinmay-hut-bui-tu-dongrobot-hut-bui-cao-capluc-hut-cuc-khoe-i2465190877.html', 'price': '₫207,372', 'sold': '306 sold'}, {'link': 'https://www.lazada.vn/products/xiaomimijia-robot-quet-nha-thong-minh-ket-hop-quet-hut-va-lau-mot-may-hut-bui-thong-minh-nha-hoan-toan-tu-dong-moi-i2484411660.html', 'price': '₫77,000', 'sold': '230 sold'}, {'link': 'https://www.lazada.vn/products/da-san-sang-de-giao-hang-robot-quet-nha-quet-va-lau-nha-thong-minh-bon-trong-mot-sac-usb-i2668937402.html', 'price': '₫59,000', 'sold': '154 sold'}, {'link': 'https://www.lazada.vn/products/robot-hut-bui-lau-nha-xiaomi-robot-vacuum-e5-blackwhite-i2725031381.html', 'price': '₫1,990,000', 'sold': '28 sold'}, {'link': 'https://www.lazada.vn/products/robot-hut-bui-lau-nha-es-330-luc-hut-khoe-co-cam-bien-chong-roi-bao-hanh-12-thang-i2303459685.html', 'price': '₫527,000', 'sold': '171 sold'}, {'link': 'https://www.lazada.vn/products/robot-thong-minh-hut-bui-nhe-da-che-do-mini-cho-thap-tham-long-thu-cung-cung-tang-den-abs-chat-lieu-pv-230x230x65mm-i2750956006.html', 'price': '₫42,100', 'sold': '10 sold'}, {'link': 'https://www.lazada.vn/products/xiaozhubangchu-robot-quet-nha-may-lam-sach-thong-minh-gia-dung-tu-dong-co-the-quet-san-nha-hut-bui-lau-nha-lam-sach-toan-bo-ngoi-nha-may-hut-bui-hut-bui-lon-nhanh-chong-may-lau-nha-sa-i1682071892.html', 'price': '₫368,000', 'sold': '549 sold'}]\n"
     ]
    }
   ],
   "source": [
    "print(product_links)"
   ]
  },
  {
   "cell_type": "code",
   "execution_count": 7,
   "metadata": {},
   "outputs": [
    {
     "name": "stdout",
     "output_type": "stream",
     "text": [
      "Fetching details for https://www.lazada.vn/products/free-giftman-hinh-di-dong-goojodoq-156-14-inch-19201080p-fhd-ips-usb-c-hdmi-portable-monitor-cho-laptop-may-tinh-dien-thoai-may-choi-game-ps4-i2478628024.html...\n",
      "Fetching details for https://www.lazada.vn/products/man-hinh-di-dong-goojodoq-14inch-portable-monitor-ips-25k-19201080p-fhd-hdmi-de-keo-dai-loa-ps4-dien-bao-hanh-chinh-hang-i2610558168.html...\n",
      "Fetching details for https://www.lazada.vn/products/man-hinh-chieu-di-dong-60-150-inch-169-man-hinh-may-chieu-mau-trang-mo-cho-phim-ngoai-troi-du-lich-rap-hat-tai-nha-i2725202234.html...\n",
      "Fetching details for https://www.lazada.vn/products/boe-man-hinh-di-dong-ips-fhd25k-60hz-144hz-type-c-hdmi-portable-monitor-i2743446576.html...\n",
      "Fetching details for https://www.lazada.vn/products/man-hinh-cam-ung-di-dong-thong-minh-22-inch-tomko-gowithme-p2152j-ma-android-12-i-ram-4g-i-rom-64g-i-60-hz-i2431855899.html...\n",
      "Fetching details for https://www.lazada.vn/products/man-hinh-di-dong-full-hd-ips-ket-noi-type-c-va-hdmi-dung-cho-dien-thoai-may-tinh-may-choi-game-i2107127214.html...\n",
      "Fetching details for https://www.lazada.vn/products/veidadz-man-hinh-chieu-di-dong-60-200inch-mat-do-cao-mau-trang-mo-chong-nhan-169-ty-le-quan-diem-2-mat-co-the-gap-lai-cho-phim-ngoai-troi-i2474125828.html...\n",
      "Fetching details for https://www.lazada.vn/products/man-hinh-chieu-di-dong-don-gian-60-150-inch-169-hd-2k-4k-tuong-thich-mau-trang-mo-co-the-gap-lai-man-may-chieu-ngoai-troi-i2448584491.html...\n",
      "Fetching details for https://www.lazada.vn/products/man-hinh-di-dong-zx1505-nhieu-kich-thuoc-fullhd-2k-4k-cho-may-tinh-laptop-smartphone-i1935629973.html...\n",
      "Fetching details for https://www.lazada.vn/products/man-hinh-di-dong-16-inch-option-cam-ung-trang-hoac-den-25k-qhd-2560x1600-chat-luong-cao-60hz-144hz-view-178-xuat-hinh-hdmi-type-c-man-hinh-vi-tinh-man-hinh-phu-man-hinh-mo-rong-portable-monitor-i2421646713.html...\n",
      "Fetching details for https://www.lazada.vn/products/man-hinh-di-dong-ips-fhd25k4k-type-c-hdmi-portable-monitor-cho-may-tinh-dien-thoai-may-choi-game-i2277624775.html...\n",
      "Fetching details for https://www.lazada.vn/products/boe-man-hinh-di-dong-cam-ung-ips-fhd25k-60hz-144hz-type-c-hdmi-portable-monitor-i2743398838.html...\n",
      "Fetching details for https://www.lazada.vn/products/man-hinh-di-dong-ips-fhd2k4k-type-c-hdmi-portable-monitor-i2590544214.html...\n",
      "Fetching details for https://www.lazada.vn/products/kelonglai2-di-dong-man-hinh-ban-chu-kim-loai-dung-16-inch-pho-mo-rong-hien-thi-co-so-vesa-nui-ben-ngoai-man-hinh-thang-dung-mo-rong-i2742899707.html...\n",
      "Fetching details for https://www.lazada.vn/products/xach-tay-man-hinh-116-inch-hd-led-hien-thi-may-tinh-xach-tay-man-hinh-dual-cong-hdmi-du-lich-man-hinh-cho-raspberry-pimay-tinh-xach-tayps3ps4-xbox-i2594425861.html...\n",
      "Fetching details for https://www.lazada.vn/products/man-hinh-di-dong-11-inch-ips-co-type-c-thunderbolt-tang-bao-da-i2269470383.html...\n",
      "Fetching details for https://www.lazada.vn/products/man-hinh-di-dong-15-inch-ban-co-cam-ung-type-c-thunderbolt-tang-kem-bao-da-i2229019916.html...\n",
      "Fetching details for https://www.lazada.vn/products/man-hinh-di-dong-15-inch-ips-25k-144hz-co-typec-thunderbolt-tang-kem-bao-da-i2178702493.html...\n",
      "Fetching details for https://www.lazada.vn/products/man-hinh-di-dong-14-inch-ips-25k-typec-thunderbolt-tang-kem-bao-da-i2128244270.html...\n",
      "Fetching details for https://www.lazada.vn/products/man-hinh-di-dong-arzopa-14-inch-16-inch-tam-nen-ips-25k-fullhd-144-hz-60-hz-arzopa-portable-monitor-arzopa-z1fc-i2436784971.html...\n",
      "Fetching details for https://www.lazada.vn/products/man-hinh-chieu-4k-do-phan-giai-cao-60-150-inch-ty-le-khung-hinh-169-be-mat-chong-nhan-co-the-gap-lai-di-dong-hai-mat-cho-rap-hat-tai-nha-i2626648755.html...\n",
      "Fetching details for https://www.lazada.vn/products/man-hinh-may-chieu-di-dong-100-inch-hd-tuong-phan-cao-2-mat-trang-chong-anh-sang-khong-nhan-xem-phim-tai-gia-dinh-man-hinh-mem-trang-3d-60-150-inch-co-the-giat-va-co-the-gap-lai-chieu-vat-lieu-polyester-i2627845077.html...\n",
      "Fetching details for https://www.lazada.vn/products/man-hinh-di-dong-11-inch-133-inch-14-inch-156-inch-16-inch-173-inch-18-inch-cam-ung-option-fullhd-2k-4k-ket-noi-hdmi-type-c-option-hdr-moi-100-man-hinh-di-dong-man-hinh-mo-rong-man-hinh-roi-tu-133-inch-den-173-inch-i2387655749.html...\n",
      "Fetching details for https://www.lazada.vn/products/di-dong-man-hinh-dien-thoai-3d-kinh-phong-dai-gap-hd-zoom-dien-thoai-may-chieu-i276834819.html...\n",
      "Fetching details for https://www.lazada.vn/products/kabbient-man-hinh-di-dong-133-inch-1920-1080p-hdr-ips-voi-gia-do-an-type-c-tuong-thich-hdmi-cho-man-hinh-tro-choi-pc-di-dong-may-tinh-xach-tay-samsung-man-hinh-i2374236712.html...\n",
      "Fetching details for https://www.lazada.vn/products/man-hinh-may-tinh-4k-di-dong-co-man-hinh-cam-ung-may-tinh-xach-tay-144hz-man-hinh-thu-hai-mo-rong-ben-ngoai-man-hinh-kep-co-the-treo-tuong-voi-loa-tich-hop-i1481360848.html...\n"
     ]
    },
    {
     "ename": "WebDriverException",
     "evalue": "Message: unknown error: net::ERR_NAME_NOT_RESOLVED\n  (Session info: chrome=131.0.6778.109)\nStacktrace:\n\tGetHandleVerifier [0x00007FF67C276CF5+28821]\n\t(No symbol) [0x00007FF67C1E3880]\n\t(No symbol) [0x00007FF67C08578A]\n\t(No symbol) [0x00007FF67C082E88]\n\t(No symbol) [0x00007FF67C073BF9]\n\t(No symbol) [0x00007FF67C07594F]\n\t(No symbol) [0x00007FF67C073EBF]\n\t(No symbol) [0x00007FF67C07371B]\n\t(No symbol) [0x00007FF67C07365A]\n\t(No symbol) [0x00007FF67C071274]\n\t(No symbol) [0x00007FF67C071B3C]\n\t(No symbol) [0x00007FF67C08885A]\n\t(No symbol) [0x00007FF67C1201FE]\n\t(No symbol) [0x00007FF67C0FF2FA]\n\t(No symbol) [0x00007FF67C11F412]\n\t(No symbol) [0x00007FF67C0FF0A3]\n\t(No symbol) [0x00007FF67C0CA778]\n\t(No symbol) [0x00007FF67C0CB8E1]\n\tGetHandleVerifier [0x00007FF67C5AFCED+3408013]\n\tGetHandleVerifier [0x00007FF67C5C745F+3504127]\n\tGetHandleVerifier [0x00007FF67C5BB63D+3455453]\n\tGetHandleVerifier [0x00007FF67C33BDFB+835995]\n\t(No symbol) [0x00007FF67C1EEB9F]\n\t(No symbol) [0x00007FF67C1EA854]\n\t(No symbol) [0x00007FF67C1EA9ED]\n\t(No symbol) [0x00007FF67C1DA1D9]\n\tBaseThreadInitThunk [0x00007FFDCC7BE8D7+23]\n\tRtlUserThreadStart [0x00007FFDCD85FBCC+44]\n",
     "output_type": "error",
     "traceback": [
      "\u001b[1;31m---------------------------------------------------------------------------\u001b[0m",
      "\u001b[1;31mWebDriverException\u001b[0m                        Traceback (most recent call last)",
      "Cell \u001b[1;32mIn[7], line 5\u001b[0m\n\u001b[0;32m      3\u001b[0m \u001b[38;5;28;01mfor\u001b[39;00m product \u001b[38;5;129;01min\u001b[39;00m product_links:\n\u001b[0;32m      4\u001b[0m     \u001b[38;5;28mprint\u001b[39m(\u001b[38;5;124mf\u001b[39m\u001b[38;5;124m\"\u001b[39m\u001b[38;5;124mFetching details for \u001b[39m\u001b[38;5;132;01m{\u001b[39;00mproduct[\u001b[38;5;124m'\u001b[39m\u001b[38;5;124mlink\u001b[39m\u001b[38;5;124m'\u001b[39m]\u001b[38;5;132;01m}\u001b[39;00m\u001b[38;5;124m...\u001b[39m\u001b[38;5;124m\"\u001b[39m)\n\u001b[1;32m----> 5\u001b[0m     details \u001b[38;5;241m=\u001b[39m \u001b[43mget_product_details\u001b[49m\u001b[43m(\u001b[49m\u001b[43mproduct\u001b[49m\u001b[43m[\u001b[49m\u001b[38;5;124;43m'\u001b[39;49m\u001b[38;5;124;43mlink\u001b[39;49m\u001b[38;5;124;43m'\u001b[39;49m\u001b[43m]\u001b[49m\u001b[43m)\u001b[49m\n\u001b[0;32m      6\u001b[0m     \u001b[38;5;28;01mif\u001b[39;00m details:\n\u001b[0;32m      7\u001b[0m         details\u001b[38;5;241m.\u001b[39mupdate({\n\u001b[0;32m      8\u001b[0m             \u001b[38;5;124m\"\u001b[39m\u001b[38;5;124mprice\u001b[39m\u001b[38;5;124m\"\u001b[39m: product[\u001b[38;5;124m\"\u001b[39m\u001b[38;5;124mprice\u001b[39m\u001b[38;5;124m\"\u001b[39m],\n\u001b[0;32m      9\u001b[0m             \u001b[38;5;124m\"\u001b[39m\u001b[38;5;124msold\u001b[39m\u001b[38;5;124m\"\u001b[39m: product[\u001b[38;5;124m\"\u001b[39m\u001b[38;5;124msold\u001b[39m\u001b[38;5;124m\"\u001b[39m],\n\u001b[0;32m     10\u001b[0m             \u001b[38;5;124m\"\u001b[39m\u001b[38;5;124mlink\u001b[39m\u001b[38;5;124m\"\u001b[39m: product[\u001b[38;5;124m\"\u001b[39m\u001b[38;5;124mlink\u001b[39m\u001b[38;5;124m\"\u001b[39m],\n\u001b[0;32m     11\u001b[0m     })\n",
      "Cell \u001b[1;32mIn[3], line 21\u001b[0m, in \u001b[0;36mget_product_details\u001b[1;34m(url)\u001b[0m\n\u001b[0;32m     19\u001b[0m browser \u001b[38;5;241m=\u001b[39m webdriver\u001b[38;5;241m.\u001b[39mChrome()\n\u001b[0;32m     20\u001b[0m browser\u001b[38;5;241m.\u001b[39mmaximize_window()\n\u001b[1;32m---> 21\u001b[0m \u001b[43mbrowser\u001b[49m\u001b[38;5;241;43m.\u001b[39;49m\u001b[43mget\u001b[49m\u001b[43m(\u001b[49m\u001b[43murl\u001b[49m\u001b[43m)\u001b[49m\n\u001b[0;32m     22\u001b[0m browser\u001b[38;5;241m.\u001b[39mimplicitly_wait(\u001b[38;5;241m120\u001b[39m) \n\u001b[0;32m     24\u001b[0m \u001b[38;5;28;01mtry\u001b[39;00m:\n",
      "File \u001b[1;32mc:\\Users\\luong\\miniconda3\\Lib\\site-packages\\selenium\\webdriver\\remote\\webdriver.py:389\u001b[0m, in \u001b[0;36mWebDriver.get\u001b[1;34m(self, url)\u001b[0m\n\u001b[0;32m    387\u001b[0m \u001b[38;5;28;01mdef\u001b[39;00m \u001b[38;5;21mget\u001b[39m(\u001b[38;5;28mself\u001b[39m, url: \u001b[38;5;28mstr\u001b[39m) \u001b[38;5;241m-\u001b[39m\u001b[38;5;241m>\u001b[39m \u001b[38;5;28;01mNone\u001b[39;00m:\n\u001b[0;32m    388\u001b[0m \u001b[38;5;250m    \u001b[39m\u001b[38;5;124;03m\"\"\"Loads a web page in the current browser session.\"\"\"\u001b[39;00m\n\u001b[1;32m--> 389\u001b[0m     \u001b[38;5;28;43mself\u001b[39;49m\u001b[38;5;241;43m.\u001b[39;49m\u001b[43mexecute\u001b[49m\u001b[43m(\u001b[49m\u001b[43mCommand\u001b[49m\u001b[38;5;241;43m.\u001b[39;49m\u001b[43mGET\u001b[49m\u001b[43m,\u001b[49m\u001b[43m \u001b[49m\u001b[43m{\u001b[49m\u001b[38;5;124;43m\"\u001b[39;49m\u001b[38;5;124;43murl\u001b[39;49m\u001b[38;5;124;43m\"\u001b[39;49m\u001b[43m:\u001b[49m\u001b[43m \u001b[49m\u001b[43murl\u001b[49m\u001b[43m}\u001b[49m\u001b[43m)\u001b[49m\n",
      "File \u001b[1;32mc:\\Users\\luong\\miniconda3\\Lib\\site-packages\\selenium\\webdriver\\remote\\webdriver.py:380\u001b[0m, in \u001b[0;36mWebDriver.execute\u001b[1;34m(self, driver_command, params)\u001b[0m\n\u001b[0;32m    378\u001b[0m response \u001b[38;5;241m=\u001b[39m \u001b[38;5;28mself\u001b[39m\u001b[38;5;241m.\u001b[39mcommand_executor\u001b[38;5;241m.\u001b[39mexecute(driver_command, params)\n\u001b[0;32m    379\u001b[0m \u001b[38;5;28;01mif\u001b[39;00m response:\n\u001b[1;32m--> 380\u001b[0m     \u001b[38;5;28;43mself\u001b[39;49m\u001b[38;5;241;43m.\u001b[39;49m\u001b[43merror_handler\u001b[49m\u001b[38;5;241;43m.\u001b[39;49m\u001b[43mcheck_response\u001b[49m\u001b[43m(\u001b[49m\u001b[43mresponse\u001b[49m\u001b[43m)\u001b[49m\n\u001b[0;32m    381\u001b[0m     response[\u001b[38;5;124m\"\u001b[39m\u001b[38;5;124mvalue\u001b[39m\u001b[38;5;124m\"\u001b[39m] \u001b[38;5;241m=\u001b[39m \u001b[38;5;28mself\u001b[39m\u001b[38;5;241m.\u001b[39m_unwrap_value(response\u001b[38;5;241m.\u001b[39mget(\u001b[38;5;124m\"\u001b[39m\u001b[38;5;124mvalue\u001b[39m\u001b[38;5;124m\"\u001b[39m, \u001b[38;5;28;01mNone\u001b[39;00m))\n\u001b[0;32m    382\u001b[0m     \u001b[38;5;28;01mreturn\u001b[39;00m response\n",
      "File \u001b[1;32mc:\\Users\\luong\\miniconda3\\Lib\\site-packages\\selenium\\webdriver\\remote\\errorhandler.py:229\u001b[0m, in \u001b[0;36mErrorHandler.check_response\u001b[1;34m(self, response)\u001b[0m\n\u001b[0;32m    227\u001b[0m         alert_text \u001b[38;5;241m=\u001b[39m value[\u001b[38;5;124m\"\u001b[39m\u001b[38;5;124malert\u001b[39m\u001b[38;5;124m\"\u001b[39m]\u001b[38;5;241m.\u001b[39mget(\u001b[38;5;124m\"\u001b[39m\u001b[38;5;124mtext\u001b[39m\u001b[38;5;124m\"\u001b[39m)\n\u001b[0;32m    228\u001b[0m     \u001b[38;5;28;01mraise\u001b[39;00m exception_class(message, screen, stacktrace, alert_text)  \u001b[38;5;66;03m# type: ignore[call-arg]  # mypy is not smart enough here\u001b[39;00m\n\u001b[1;32m--> 229\u001b[0m \u001b[38;5;28;01mraise\u001b[39;00m exception_class(message, screen, stacktrace)\n",
      "\u001b[1;31mWebDriverException\u001b[0m: Message: unknown error: net::ERR_NAME_NOT_RESOLVED\n  (Session info: chrome=131.0.6778.109)\nStacktrace:\n\tGetHandleVerifier [0x00007FF67C276CF5+28821]\n\t(No symbol) [0x00007FF67C1E3880]\n\t(No symbol) [0x00007FF67C08578A]\n\t(No symbol) [0x00007FF67C082E88]\n\t(No symbol) [0x00007FF67C073BF9]\n\t(No symbol) [0x00007FF67C07594F]\n\t(No symbol) [0x00007FF67C073EBF]\n\t(No symbol) [0x00007FF67C07371B]\n\t(No symbol) [0x00007FF67C07365A]\n\t(No symbol) [0x00007FF67C071274]\n\t(No symbol) [0x00007FF67C071B3C]\n\t(No symbol) [0x00007FF67C08885A]\n\t(No symbol) [0x00007FF67C1201FE]\n\t(No symbol) [0x00007FF67C0FF2FA]\n\t(No symbol) [0x00007FF67C11F412]\n\t(No symbol) [0x00007FF67C0FF0A3]\n\t(No symbol) [0x00007FF67C0CA778]\n\t(No symbol) [0x00007FF67C0CB8E1]\n\tGetHandleVerifier [0x00007FF67C5AFCED+3408013]\n\tGetHandleVerifier [0x00007FF67C5C745F+3504127]\n\tGetHandleVerifier [0x00007FF67C5BB63D+3455453]\n\tGetHandleVerifier [0x00007FF67C33BDFB+835995]\n\t(No symbol) [0x00007FF67C1EEB9F]\n\t(No symbol) [0x00007FF67C1EA854]\n\t(No symbol) [0x00007FF67C1EA9ED]\n\t(No symbol) [0x00007FF67C1DA1D9]\n\tBaseThreadInitThunk [0x00007FFDCC7BE8D7+23]\n\tRtlUserThreadStart [0x00007FFDCD85FBCC+44]\n"
     ]
    }
   ],
   "source": [
    "product_detail = []\n",
    "\n",
    "for product in product_links:\n",
    "    print(f\"Fetching details for {product['link']}...\")\n",
    "    details = get_product_details(product['link'])\n",
    "    if details:\n",
    "        details.update({\n",
    "            \"price\": product[\"price\"],\n",
    "            \"sold\": product[\"sold\"],\n",
    "            \"link\": product[\"link\"],\n",
    "    })\n",
    "    product_detail.append(details)\n",
    "\n",
    "if product_detail:\n",
    "    with open(\"product_details.csv\", \"a\", newline=\"\", encoding=\"utf-8\") as csvfile:\n",
    "        fieldnames = [\"product_name\", \"store_name\", \"rating\", \"comment_count\",\"price\", \"sold\", \"link\"]\n",
    "        writer = csv.DictWriter(csvfile, fieldnames=fieldnames)\n",
    "        writer.writeheader()\n",
    "        writer.writerows(product_detail)\n",
    "    print(\"Saved product details to product_details.csv\") \n",
    "else:\n",
    "    print(\"No product detail to save\") "
   ]
  },
  {
   "cell_type": "code",
   "execution_count": 25,
   "metadata": {},
   "outputs": [
    {
     "name": "stdout",
     "output_type": "stream",
     "text": [
      "<class 'pandas.core.frame.DataFrame'>\n",
      "RangeIndex: 72 entries, 0 to 71\n",
      "Data columns (total 7 columns):\n",
      " #   Column         Non-Null Count  Dtype \n",
      "---  ------         --------------  ----- \n",
      " 0   product_name   72 non-null     object\n",
      " 1   store_name     71 non-null     object\n",
      " 2   rating         72 non-null     object\n",
      " 3   comment_count  72 non-null     object\n",
      " 4   price          72 non-null     object\n",
      " 5   sold           72 non-null     object\n",
      " 6   link           72 non-null     object\n",
      "dtypes: object(7)\n",
      "memory usage: 4.1+ KB\n"
     ]
    }
   ],
   "source": [
    "product_data = pd.read_csv('product_details.csv')\n",
    "\n",
    "product_data.info()"
   ]
  }
 ],
 "metadata": {
  "kernelspec": {
   "display_name": "base",
   "language": "python",
   "name": "python3"
  },
  "language_info": {
   "codemirror_mode": {
    "name": "ipython",
    "version": 3
   },
   "file_extension": ".py",
   "mimetype": "text/x-python",
   "name": "python",
   "nbconvert_exporter": "python",
   "pygments_lexer": "ipython3",
   "version": "3.12.7"
  }
 },
 "nbformat": 4,
 "nbformat_minor": 2
}
